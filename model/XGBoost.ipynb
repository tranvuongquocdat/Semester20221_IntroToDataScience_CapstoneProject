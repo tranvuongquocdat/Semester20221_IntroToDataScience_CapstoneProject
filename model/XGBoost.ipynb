{
 "cells": [
  {
   "cell_type": "markdown",
   "id": "0c8babfb-83c4-4a76-990f-f19707ef6132",
   "metadata": {},
   "source": [
    "## Import libraries"
   ]
  },
  {
   "cell_type": "code",
   "execution_count": 29,
   "id": "294d9417-f0c5-434c-a6e1-8ae5c362f27b",
   "metadata": {},
   "outputs": [],
   "source": [
    "import pandas as pd\n",
    "import xgboost as xgb\n",
    "from sklearn.metrics import r2_score\n",
    "import optuna\n",
    "from sklearn.model_selection import train_test_split, cross_val_score, GridSearchCV\n",
    "import warnings\n",
    "import matplotlib.pyplot as plt\n",
    "warnings.filterwarnings('ignore')"
   ]
  },
  {
   "cell_type": "markdown",
   "id": "ceaea183-450a-46b0-931d-fc4044a49c99",
   "metadata": {},
   "source": [
    "## Load the training and testing set"
   ]
  },
  {
   "cell_type": "code",
   "execution_count": 30,
   "id": "ccbedad3-1ca5-4179-a071-aa395d04b9bf",
   "metadata": {},
   "outputs": [],
   "source": [
    "df_train = pd.read_csv('../data/training_set.csv', index_col = 0)\n",
    "df_test = pd.read_csv('../data/testing_set.csv', index_col = 0)"
   ]
  },
  {
   "cell_type": "code",
   "execution_count": 31,
   "id": "006fb271-cbfc-4289-8b9d-7a79a911eddf",
   "metadata": {},
   "outputs": [],
   "source": [
    "X_train = df_train.drop(\"price\", axis = 1)\n",
    "y_train = df_train[\"price\"]\n",
    "X_test = df_test.drop(\"price\", axis = 1)\n",
    "y_test = df_test[\"price\"]"
   ]
  },
  {
   "cell_type": "markdown",
   "id": "0e27cc82-3343-4d72-8c46-d60856b216f6",
   "metadata": {},
   "source": [
    "## XGBoost"
   ]
  },
  {
   "cell_type": "markdown",
   "id": "b9d63ecb-39da-440f-9952-6bde650e5995",
   "metadata": {},
   "source": [
    "#### First, we try the default hyperparameters of XGBoost"
   ]
  },
  {
   "cell_type": "code",
   "execution_count": 32,
   "id": "0f5e0c46-4b96-4285-b413-654251feac1d",
   "metadata": {},
   "outputs": [
    {
     "name": "stdout",
     "output_type": "stream",
     "text": [
      "R2 score for XGBoost model (test): 0.8201044299626159\n",
      "R2 score for XGBoost model (train): 0.9957583381538956\n"
     ]
    }
   ],
   "source": [
    "# params = trial.best_params\n",
    "model = xgb.XGBRegressor()\n",
    "# model = xgb.XGBRegressor(**params)\n",
    "model.fit(X_train, y_train)\n",
    "y_preds = model.predict(X_test)\n",
    "r2_train = r2_score(y_train, model.predict(X_train))\n",
    "r2_test = r2_score(y_test, y_preds)\n",
    "print(\"R2 score for XGBoost model (test):\", r2_test)\n",
    "print(\"R2 score for XGBoost model (train):\", r2_train)"
   ]
  },
  {
   "cell_type": "code",
   "execution_count": 34,
   "id": "25e29314-9f27-4701-baf7-f229163fd802",
   "metadata": {},
   "outputs": [
    {
     "data": {
      "text/plain": [
       "{'objective': 'reg:squarederror',\n",
       " 'base_score': 0.5,\n",
       " 'booster': 'gbtree',\n",
       " 'callbacks': None,\n",
       " 'colsample_bylevel': 1,\n",
       " 'colsample_bynode': 1,\n",
       " 'colsample_bytree': 1,\n",
       " 'early_stopping_rounds': None,\n",
       " 'enable_categorical': False,\n",
       " 'eval_metric': None,\n",
       " 'feature_types': None,\n",
       " 'gamma': 0,\n",
       " 'gpu_id': -1,\n",
       " 'grow_policy': 'depthwise',\n",
       " 'importance_type': None,\n",
       " 'interaction_constraints': '',\n",
       " 'learning_rate': 0.300000012,\n",
       " 'max_bin': 256,\n",
       " 'max_cat_threshold': 64,\n",
       " 'max_cat_to_onehot': 4,\n",
       " 'max_delta_step': 0,\n",
       " 'max_depth': 6,\n",
       " 'max_leaves': 0,\n",
       " 'min_child_weight': 1,\n",
       " 'missing': nan,\n",
       " 'monotone_constraints': '()',\n",
       " 'n_estimators': 100,\n",
       " 'n_jobs': 0,\n",
       " 'num_parallel_tree': 1,\n",
       " 'predictor': 'auto',\n",
       " 'random_state': 0,\n",
       " 'reg_alpha': 0,\n",
       " 'reg_lambda': 1,\n",
       " 'sampling_method': 'uniform',\n",
       " 'scale_pos_weight': 1,\n",
       " 'subsample': 1,\n",
       " 'tree_method': 'exact',\n",
       " 'validate_parameters': 1,\n",
       " 'verbosity': None}"
      ]
     },
     "execution_count": 34,
     "metadata": {},
     "output_type": "execute_result"
    }
   ],
   "source": [
    "model.get_params()"
   ]
  },
  {
   "cell_type": "markdown",
   "id": "06f34b24-dd4f-46b4-8ca3-669dd18ae8cf",
   "metadata": {},
   "source": [
    "#### Now we utilize some hyperparameter tuning method to improve this"
   ]
  },
  {
   "cell_type": "markdown",
   "id": "70d50b83-045c-4f52-bb01-aa03edb3a154",
   "metadata": {},
   "source": [
    "##### 1. Grid Search Cross Validation"
   ]
  },
  {
   "cell_type": "code",
   "execution_count": 43,
   "id": "eb6b565d-6666-4904-b8b1-2b159b5f3399",
   "metadata": {},
   "outputs": [],
   "source": [
    "params = {\n",
    "        'gamma': [0, 0.5, 1, 5],\n",
    "        'colsample_bytree': [0.6, 0.8, 1.0],\n",
    "        'max_depth': [3, 4, 6, 10],\n",
    "        'n_estimators':[50,100,200],\n",
    "        'reg_alpha': [0, 0.5, 1, 5],\n",
    "        'reg_lambda': [0, 0.5, 1, 5]\n",
    "        }"
   ]
  },
  {
   "cell_type": "code",
   "execution_count": 44,
   "id": "6f35c64d-0030-4ac5-837c-a5c9ddbe01d4",
   "metadata": {},
   "outputs": [],
   "source": [
    "model = xgb.XGBRegressor() "
   ]
  },
  {
   "cell_type": "code",
   "execution_count": 45,
   "id": "e6a4f59d-3fb5-442e-bccd-762fcd9fd7a3",
   "metadata": {},
   "outputs": [],
   "source": [
    "grid_search = GridSearchCV(\n",
    "    estimator=model,\n",
    "    param_grid=params,\n",
    "    scoring = 'r2',\n",
    "    n_jobs = -1,\n",
    "    cv = 5,\n",
    "    verbose=True\n",
    ")"
   ]
  },
  {
   "cell_type": "code",
   "execution_count": 46,
   "id": "380b58fd-be90-45c0-bb83-4134b161ba11",
   "metadata": {},
   "outputs": [
    {
     "name": "stdout",
     "output_type": "stream",
     "text": [
      "Fitting 5 folds for each of 2304 candidates, totalling 11520 fits\n"
     ]
    },
    {
     "data": {
      "text/html": [
       "<style>#sk-container-id-3 {color: black;background-color: white;}#sk-container-id-3 pre{padding: 0;}#sk-container-id-3 div.sk-toggleable {background-color: white;}#sk-container-id-3 label.sk-toggleable__label {cursor: pointer;display: block;width: 100%;margin-bottom: 0;padding: 0.3em;box-sizing: border-box;text-align: center;}#sk-container-id-3 label.sk-toggleable__label-arrow:before {content: \"▸\";float: left;margin-right: 0.25em;color: #696969;}#sk-container-id-3 label.sk-toggleable__label-arrow:hover:before {color: black;}#sk-container-id-3 div.sk-estimator:hover label.sk-toggleable__label-arrow:before {color: black;}#sk-container-id-3 div.sk-toggleable__content {max-height: 0;max-width: 0;overflow: hidden;text-align: left;background-color: #f0f8ff;}#sk-container-id-3 div.sk-toggleable__content pre {margin: 0.2em;color: black;border-radius: 0.25em;background-color: #f0f8ff;}#sk-container-id-3 input.sk-toggleable__control:checked~div.sk-toggleable__content {max-height: 200px;max-width: 100%;overflow: auto;}#sk-container-id-3 input.sk-toggleable__control:checked~label.sk-toggleable__label-arrow:before {content: \"▾\";}#sk-container-id-3 div.sk-estimator input.sk-toggleable__control:checked~label.sk-toggleable__label {background-color: #d4ebff;}#sk-container-id-3 div.sk-label input.sk-toggleable__control:checked~label.sk-toggleable__label {background-color: #d4ebff;}#sk-container-id-3 input.sk-hidden--visually {border: 0;clip: rect(1px 1px 1px 1px);clip: rect(1px, 1px, 1px, 1px);height: 1px;margin: -1px;overflow: hidden;padding: 0;position: absolute;width: 1px;}#sk-container-id-3 div.sk-estimator {font-family: monospace;background-color: #f0f8ff;border: 1px dotted black;border-radius: 0.25em;box-sizing: border-box;margin-bottom: 0.5em;}#sk-container-id-3 div.sk-estimator:hover {background-color: #d4ebff;}#sk-container-id-3 div.sk-parallel-item::after {content: \"\";width: 100%;border-bottom: 1px solid gray;flex-grow: 1;}#sk-container-id-3 div.sk-label:hover label.sk-toggleable__label {background-color: #d4ebff;}#sk-container-id-3 div.sk-serial::before {content: \"\";position: absolute;border-left: 1px solid gray;box-sizing: border-box;top: 0;bottom: 0;left: 50%;z-index: 0;}#sk-container-id-3 div.sk-serial {display: flex;flex-direction: column;align-items: center;background-color: white;padding-right: 0.2em;padding-left: 0.2em;position: relative;}#sk-container-id-3 div.sk-item {position: relative;z-index: 1;}#sk-container-id-3 div.sk-parallel {display: flex;align-items: stretch;justify-content: center;background-color: white;position: relative;}#sk-container-id-3 div.sk-item::before, #sk-container-id-3 div.sk-parallel-item::before {content: \"\";position: absolute;border-left: 1px solid gray;box-sizing: border-box;top: 0;bottom: 0;left: 50%;z-index: -1;}#sk-container-id-3 div.sk-parallel-item {display: flex;flex-direction: column;z-index: 1;position: relative;background-color: white;}#sk-container-id-3 div.sk-parallel-item:first-child::after {align-self: flex-end;width: 50%;}#sk-container-id-3 div.sk-parallel-item:last-child::after {align-self: flex-start;width: 50%;}#sk-container-id-3 div.sk-parallel-item:only-child::after {width: 0;}#sk-container-id-3 div.sk-dashed-wrapped {border: 1px dashed gray;margin: 0 0.4em 0.5em 0.4em;box-sizing: border-box;padding-bottom: 0.4em;background-color: white;}#sk-container-id-3 div.sk-label label {font-family: monospace;font-weight: bold;display: inline-block;line-height: 1.2em;}#sk-container-id-3 div.sk-label-container {text-align: center;}#sk-container-id-3 div.sk-container {/* jupyter's `normalize.less` sets `[hidden] { display: none; }` but bootstrap.min.css set `[hidden] { display: none !important; }` so we also need the `!important` here to be able to override the default hidden behavior on the sphinx rendered scikit-learn.org. See: https://github.com/scikit-learn/scikit-learn/issues/21755 */display: inline-block !important;position: relative;}#sk-container-id-3 div.sk-text-repr-fallback {display: none;}</style><div id=\"sk-container-id-3\" class=\"sk-top-container\"><div class=\"sk-text-repr-fallback\"><pre>GridSearchCV(cv=5,\n",
       "             estimator=XGBRegressor(base_score=None, booster=None,\n",
       "                                    callbacks=None, colsample_bylevel=None,\n",
       "                                    colsample_bynode=None,\n",
       "                                    colsample_bytree=None,\n",
       "                                    early_stopping_rounds=None,\n",
       "                                    enable_categorical=False, eval_metric=None,\n",
       "                                    feature_types=None, gamma=None, gpu_id=None,\n",
       "                                    grow_policy=None, importance_type=None,\n",
       "                                    interaction_constraints=None,\n",
       "                                    learning_rate=None, m...\n",
       "                                    min_child_weight=None, missing=nan,\n",
       "                                    monotone_constraints=None, n_estimators=100,\n",
       "                                    n_jobs=None, num_parallel_tree=None,\n",
       "                                    predictor=None, random_state=None, ...),\n",
       "             n_jobs=-1,\n",
       "             param_grid={&#x27;colsample_bytree&#x27;: [0.6, 0.8, 1.0],\n",
       "                         &#x27;gamma&#x27;: [0, 0.5, 1, 5], &#x27;max_depth&#x27;: [3, 4, 6, 10],\n",
       "                         &#x27;n_estimators&#x27;: [50, 100, 200],\n",
       "                         &#x27;reg_alpha&#x27;: [0, 0.5, 1, 5],\n",
       "                         &#x27;reg_lambda&#x27;: [0, 0.5, 1, 5]},\n",
       "             scoring=&#x27;r2&#x27;, verbose=True)</pre><b>In a Jupyter environment, please rerun this cell to show the HTML representation or trust the notebook. <br />On GitHub, the HTML representation is unable to render, please try loading this page with nbviewer.org.</b></div><div class=\"sk-container\" hidden><div class=\"sk-item sk-dashed-wrapped\"><div class=\"sk-label-container\"><div class=\"sk-label sk-toggleable\"><input class=\"sk-toggleable__control sk-hidden--visually\" id=\"sk-estimator-id-7\" type=\"checkbox\" ><label for=\"sk-estimator-id-7\" class=\"sk-toggleable__label sk-toggleable__label-arrow\">GridSearchCV</label><div class=\"sk-toggleable__content\"><pre>GridSearchCV(cv=5,\n",
       "             estimator=XGBRegressor(base_score=None, booster=None,\n",
       "                                    callbacks=None, colsample_bylevel=None,\n",
       "                                    colsample_bynode=None,\n",
       "                                    colsample_bytree=None,\n",
       "                                    early_stopping_rounds=None,\n",
       "                                    enable_categorical=False, eval_metric=None,\n",
       "                                    feature_types=None, gamma=None, gpu_id=None,\n",
       "                                    grow_policy=None, importance_type=None,\n",
       "                                    interaction_constraints=None,\n",
       "                                    learning_rate=None, m...\n",
       "                                    min_child_weight=None, missing=nan,\n",
       "                                    monotone_constraints=None, n_estimators=100,\n",
       "                                    n_jobs=None, num_parallel_tree=None,\n",
       "                                    predictor=None, random_state=None, ...),\n",
       "             n_jobs=-1,\n",
       "             param_grid={&#x27;colsample_bytree&#x27;: [0.6, 0.8, 1.0],\n",
       "                         &#x27;gamma&#x27;: [0, 0.5, 1, 5], &#x27;max_depth&#x27;: [3, 4, 6, 10],\n",
       "                         &#x27;n_estimators&#x27;: [50, 100, 200],\n",
       "                         &#x27;reg_alpha&#x27;: [0, 0.5, 1, 5],\n",
       "                         &#x27;reg_lambda&#x27;: [0, 0.5, 1, 5]},\n",
       "             scoring=&#x27;r2&#x27;, verbose=True)</pre></div></div></div><div class=\"sk-parallel\"><div class=\"sk-parallel-item\"><div class=\"sk-item\"><div class=\"sk-label-container\"><div class=\"sk-label sk-toggleable\"><input class=\"sk-toggleable__control sk-hidden--visually\" id=\"sk-estimator-id-8\" type=\"checkbox\" ><label for=\"sk-estimator-id-8\" class=\"sk-toggleable__label sk-toggleable__label-arrow\">estimator: XGBRegressor</label><div class=\"sk-toggleable__content\"><pre>XGBRegressor(base_score=None, booster=None, callbacks=None,\n",
       "             colsample_bylevel=None, colsample_bynode=None,\n",
       "             colsample_bytree=None, early_stopping_rounds=None,\n",
       "             enable_categorical=False, eval_metric=None, feature_types=None,\n",
       "             gamma=None, gpu_id=None, grow_policy=None, importance_type=None,\n",
       "             interaction_constraints=None, learning_rate=None, max_bin=None,\n",
       "             max_cat_threshold=None, max_cat_to_onehot=None,\n",
       "             max_delta_step=None, max_depth=None, max_leaves=None,\n",
       "             min_child_weight=None, missing=nan, monotone_constraints=None,\n",
       "             n_estimators=100, n_jobs=None, num_parallel_tree=None,\n",
       "             predictor=None, random_state=None, ...)</pre></div></div></div><div class=\"sk-serial\"><div class=\"sk-item\"><div class=\"sk-estimator sk-toggleable\"><input class=\"sk-toggleable__control sk-hidden--visually\" id=\"sk-estimator-id-9\" type=\"checkbox\" ><label for=\"sk-estimator-id-9\" class=\"sk-toggleable__label sk-toggleable__label-arrow\">XGBRegressor</label><div class=\"sk-toggleable__content\"><pre>XGBRegressor(base_score=None, booster=None, callbacks=None,\n",
       "             colsample_bylevel=None, colsample_bynode=None,\n",
       "             colsample_bytree=None, early_stopping_rounds=None,\n",
       "             enable_categorical=False, eval_metric=None, feature_types=None,\n",
       "             gamma=None, gpu_id=None, grow_policy=None, importance_type=None,\n",
       "             interaction_constraints=None, learning_rate=None, max_bin=None,\n",
       "             max_cat_threshold=None, max_cat_to_onehot=None,\n",
       "             max_delta_step=None, max_depth=None, max_leaves=None,\n",
       "             min_child_weight=None, missing=nan, monotone_constraints=None,\n",
       "             n_estimators=100, n_jobs=None, num_parallel_tree=None,\n",
       "             predictor=None, random_state=None, ...)</pre></div></div></div></div></div></div></div></div></div></div>"
      ],
      "text/plain": [
       "GridSearchCV(cv=5,\n",
       "             estimator=XGBRegressor(base_score=None, booster=None,\n",
       "                                    callbacks=None, colsample_bylevel=None,\n",
       "                                    colsample_bynode=None,\n",
       "                                    colsample_bytree=None,\n",
       "                                    early_stopping_rounds=None,\n",
       "                                    enable_categorical=False, eval_metric=None,\n",
       "                                    feature_types=None, gamma=None, gpu_id=None,\n",
       "                                    grow_policy=None, importance_type=None,\n",
       "                                    interaction_constraints=None,\n",
       "                                    learning_rate=None, m...\n",
       "                                    min_child_weight=None, missing=nan,\n",
       "                                    monotone_constraints=None, n_estimators=100,\n",
       "                                    n_jobs=None, num_parallel_tree=None,\n",
       "                                    predictor=None, random_state=None, ...),\n",
       "             n_jobs=-1,\n",
       "             param_grid={'colsample_bytree': [0.6, 0.8, 1.0],\n",
       "                         'gamma': [0, 0.5, 1, 5], 'max_depth': [3, 4, 6, 10],\n",
       "                         'n_estimators': [50, 100, 200],\n",
       "                         'reg_alpha': [0, 0.5, 1, 5],\n",
       "                         'reg_lambda': [0, 0.5, 1, 5]},\n",
       "             scoring='r2', verbose=True)"
      ]
     },
     "execution_count": 46,
     "metadata": {},
     "output_type": "execute_result"
    }
   ],
   "source": [
    "grid_search.fit(X_train, y_train)"
   ]
  },
  {
   "cell_type": "code",
   "execution_count": 47,
   "id": "4ae366f5-7302-4fb0-be69-e3a469c49cba",
   "metadata": {},
   "outputs": [
    {
     "name": "stdout",
     "output_type": "stream",
     "text": [
      "Best Score: 0.7816049254069652\n",
      "Best Hyperparameters: {'colsample_bytree': 0.6, 'gamma': 0, 'max_depth': 4, 'n_estimators': 50, 'reg_alpha': 1, 'reg_lambda': 1}\n"
     ]
    }
   ],
   "source": [
    "print('Best Score: %s' % grid_search.best_score_)\n",
    "print('Best Hyperparameters: %s' % grid_search.best_params_)"
   ]
  },
  {
   "cell_type": "code",
   "execution_count": 48,
   "id": "e016d9d9-64f7-4687-a3aa-ec8f4d0563f1",
   "metadata": {},
   "outputs": [
    {
     "name": "stdout",
     "output_type": "stream",
     "text": [
      "R2 score for XGBoost model (test): 0.8069958462026687\n",
      "R2 score for XGBoost model (train): 0.9630734393870292\n"
     ]
    }
   ],
   "source": [
    "tuned_model = xgb.XGBRegressor(**grid_search.best_params_) \n",
    "tuned_model.fit(X_train, y_train)\n",
    "y_preds = tuned_model.predict(X_test)\n",
    "r2_train = r2_score(y_train, tuned_model.predict(X_train))\n",
    "r2_test = r2_score(y_test, y_preds)\n",
    "print(\"R2 score for XGBoost model (test):\", r2_test)\n",
    "print(\"R2 score for XGBoost model (train):\", r2_train)"
   ]
  },
  {
   "cell_type": "markdown",
   "id": "13d2377c-646e-4b17-bd60-f85799a77b07",
   "metadata": {},
   "source": [
    "#### 2. Bayesian Optimization"
   ]
  },
  {
   "cell_type": "markdown",
   "id": "71408889-b5b8-4f89-98a4-0430dddb7b4e",
   "metadata": {},
   "source": [
    "As hyperparameters' space of XGboost are very large, we use Bayesian optimization to find the best one"
   ]
  },
  {
   "cell_type": "code",
   "execution_count": 49,
   "id": "a1502aff-d405-4ece-abdb-414418aeb824",
   "metadata": {},
   "outputs": [],
   "source": [
    "def objective(trial):\n",
    "    \"\"\"Define the objective function\"\"\"\n",
    "    # train_x, valid_x, train_y, valid_y = train_test_split(X_train, y_train, test_size=0.15,random_state=42)\n",
    "    params = {\n",
    "        'max_depth': trial.suggest_categorical('max_depth', [6,8,12,18]),\n",
    "        'lambda': trial.suggest_loguniform('lambda', 1e-3, 10.0),\n",
    "        'alpha': trial.suggest_loguniform('alpha', 1e-3, 10.0),\n",
    "        'learning_rate': trial.suggest_loguniform('learning_rate', 0.1, 1.0),\n",
    "        'n_estimators': trial.suggest_int('n_estimators', 50, 500),\n",
    "        'min_child_weight': trial.suggest_int('min_child_weight', 1, 10),\n",
    "        'gamma': trial.suggest_loguniform('gamma', 1e-8, 1.0),\n",
    "        'subsample': trial.suggest_loguniform('subsample', 0.01, 1.0),\n",
    "        'colsample_bytree': trial.suggest_categorical('colsample_bytree', [0.6, 0.7, 0.8, 0.9, 1.0]),\n",
    "        'reg_alpha': trial.suggest_loguniform('reg_alpha', 1e-8, 1.0),\n",
    "        'reg_lambda': trial.suggest_loguniform('reg_lambda', 1e-8, 1.0),\n",
    "        'random_state': 1\n",
    "    }\n",
    "\n",
    "    # Fit the model\n",
    "    model = xgb.XGBRegressor(**params)  \n",
    "    r2 = cross_val_score(model, X_train, y_train, cv=5, scoring = 'r2').mean()\n",
    "    return r2"
   ]
  },
  {
   "cell_type": "code",
   "execution_count": 50,
   "id": "ed6d18da-46d8-4587-a63e-f6824013e8e2",
   "metadata": {},
   "outputs": [
    {
     "name": "stderr",
     "output_type": "stream",
     "text": [
      "\u001b[32m[I 2023-02-09 20:23:21,284]\u001b[0m A new study created in memory with name: no-name-bc1dfa9e-e3e9-4c77-9b20-ba6b8b5e9e74\u001b[0m\n",
      "\u001b[32m[I 2023-02-09 20:23:24,828]\u001b[0m Trial 0 finished with value: 0.6720733814833084 and parameters: {'max_depth': 12, 'lambda': 1.8326651059349077, 'alpha': 0.04055682836162767, 'learning_rate': 0.23011572697170327, 'n_estimators': 322, 'min_child_weight': 10, 'gamma': 1.2301460030139548e-08, 'subsample': 0.3458091659283626, 'colsample_bytree': 0.9, 'reg_alpha': 0.00017918705903647447, 'reg_lambda': 0.40664294169340676}. Best is trial 0 with value: 0.6720733814833084.\u001b[0m\n",
      "\u001b[32m[I 2023-02-09 20:23:26,339]\u001b[0m Trial 1 finished with value: 0.657095512323312 and parameters: {'max_depth': 12, 'lambda': 0.018990827595677117, 'alpha': 0.0014552587410801596, 'learning_rate': 0.135633419882919, 'n_estimators': 263, 'min_child_weight': 3, 'gamma': 0.00013194828984987604, 'subsample': 0.027491956450837764, 'colsample_bytree': 1.0, 'reg_alpha': 0.0009540708698200513, 'reg_lambda': 0.06749594835231834}. Best is trial 0 with value: 0.6720733814833084.\u001b[0m\n",
      "\u001b[32m[I 2023-02-09 20:23:27,586]\u001b[0m Trial 2 finished with value: 0.39831239481614383 and parameters: {'max_depth': 18, 'lambda': 0.9144317039491752, 'alpha': 2.9847081326484126, 'learning_rate': 0.6306767945210453, 'n_estimators': 134, 'min_child_weight': 9, 'gamma': 1.143642769957142e-06, 'subsample': 0.37031065034353566, 'colsample_bytree': 0.7, 'reg_alpha': 0.00023640877240043942, 'reg_lambda': 0.014878687754570569}. Best is trial 0 with value: 0.6720733814833084.\u001b[0m\n",
      "\u001b[32m[I 2023-02-09 20:23:28,268]\u001b[0m Trial 3 finished with value: 0.07054258299638398 and parameters: {'max_depth': 6, 'lambda': 0.10148255363698591, 'alpha': 0.07929008450474968, 'learning_rate': 0.8494042437829555, 'n_estimators': 134, 'min_child_weight': 8, 'gamma': 0.001164203254090755, 'subsample': 0.017612127856519562, 'colsample_bytree': 1.0, 'reg_alpha': 1.2579759621034535e-07, 'reg_lambda': 1.0071527990007188e-08}. Best is trial 0 with value: 0.6720733814833084.\u001b[0m\n",
      "\u001b[32m[I 2023-02-09 20:23:29,608]\u001b[0m Trial 4 finished with value: 0.47701898144894717 and parameters: {'max_depth': 8, 'lambda': 0.004129811502656064, 'alpha': 0.0012443641850156239, 'learning_rate': 0.1976124645204393, 'n_estimators': 291, 'min_child_weight': 7, 'gamma': 0.005494797580859608, 'subsample': 0.01795495624674549, 'colsample_bytree': 0.7, 'reg_alpha': 2.786296627835982e-07, 'reg_lambda': 0.00028958188700477434}. Best is trial 0 with value: 0.6720733814833084.\u001b[0m\n",
      "\u001b[32m[I 2023-02-09 20:23:30,776]\u001b[0m Trial 5 finished with value: 0.17200139224367567 and parameters: {'max_depth': 18, 'lambda': 0.5474325360652047, 'alpha': 0.02342103971688191, 'learning_rate': 0.9012987411912672, 'n_estimators': 257, 'min_child_weight': 8, 'gamma': 5.2319350209353635e-06, 'subsample': 0.013489487589266992, 'colsample_bytree': 0.8, 'reg_alpha': 0.028215188972849612, 'reg_lambda': 1.1904739508185204e-06}. Best is trial 0 with value: 0.6720733814833084.\u001b[0m\n",
      "\u001b[32m[I 2023-02-09 20:23:34,435]\u001b[0m Trial 6 finished with value: -1.5584854984462766 and parameters: {'max_depth': 6, 'lambda': 0.050422584092893, 'alpha': 1.552236758900788, 'learning_rate': 0.6585865979973603, 'n_estimators': 480, 'min_child_weight': 3, 'gamma': 0.5617051598916591, 'subsample': 0.2829682663262084, 'colsample_bytree': 0.9, 'reg_alpha': 0.019095951784784494, 'reg_lambda': 0.010267411033851332}. Best is trial 0 with value: 0.6720733814833084.\u001b[0m\n",
      "\u001b[32m[I 2023-02-09 20:23:41,599]\u001b[0m Trial 7 finished with value: 0.7295577422369316 and parameters: {'max_depth': 18, 'lambda': 0.23349974348203567, 'alpha': 0.3742747749020833, 'learning_rate': 0.16573836079857968, 'n_estimators': 460, 'min_child_weight': 8, 'gamma': 0.00582281354061042, 'subsample': 0.9539721969381927, 'colsample_bytree': 1.0, 'reg_alpha': 2.032751096745812e-08, 'reg_lambda': 0.46852418057253375}. Best is trial 7 with value: 0.7295577422369316.\u001b[0m\n",
      "\u001b[32m[I 2023-02-09 20:23:42,498]\u001b[0m Trial 8 finished with value: -378115492.44936216 and parameters: {'max_depth': 12, 'lambda': 0.015319164128702904, 'alpha': 0.0013894677026401539, 'learning_rate': 0.8220209670777145, 'n_estimators': 108, 'min_child_weight': 2, 'gamma': 6.072945034705672e-08, 'subsample': 0.07013494425298866, 'colsample_bytree': 0.6, 'reg_alpha': 0.014639262914036019, 'reg_lambda': 3.5464471751560173e-07}. Best is trial 7 with value: 0.7295577422369316.\u001b[0m\n",
      "\u001b[32m[I 2023-02-09 20:23:44,596]\u001b[0m Trial 9 finished with value: 0.7337410716721948 and parameters: {'max_depth': 12, 'lambda': 0.4173217934680594, 'alpha': 0.014377436312136938, 'learning_rate': 0.14392860437834692, 'n_estimators': 200, 'min_child_weight': 9, 'gamma': 7.354851051657793e-06, 'subsample': 0.9347593718226774, 'colsample_bytree': 0.6, 'reg_alpha': 6.673315682014252e-05, 'reg_lambda': 0.00024466764951724707}. Best is trial 9 with value: 0.7337410716721948.\u001b[0m\n",
      "\u001b[32m[I 2023-02-09 20:23:46,480]\u001b[0m Trial 10 finished with value: 0.7402417770621289 and parameters: {'max_depth': 8, 'lambda': 7.295137802678063, 'alpha': 0.010161483297477346, 'learning_rate': 0.13283554999813282, 'n_estimators': 201, 'min_child_weight': 5, 'gamma': 4.9208974547728626e-06, 'subsample': 0.9131030379492145, 'colsample_bytree': 0.6, 'reg_alpha': 5.22802411221592e-06, 'reg_lambda': 0.0002176613416514232}. Best is trial 10 with value: 0.7402417770621289.\u001b[0m\n",
      "\u001b[32m[I 2023-02-09 20:23:48,325]\u001b[0m Trial 11 finished with value: 0.7495109690490325 and parameters: {'max_depth': 8, 'lambda': 9.064773601729176, 'alpha': 0.012456993241778494, 'learning_rate': 0.10937209652893437, 'n_estimators': 197, 'min_child_weight': 5, 'gamma': 5.523802538464105e-06, 'subsample': 0.7981836168762096, 'colsample_bytree': 0.6, 'reg_alpha': 5.775066035367338e-06, 'reg_lambda': 0.000254968626287408}. Best is trial 11 with value: 0.7495109690490325.\u001b[0m\n",
      "\u001b[32m[I 2023-02-09 20:23:49,042]\u001b[0m Trial 12 finished with value: 0.7422957611317649 and parameters: {'max_depth': 8, 'lambda': 5.818973145545825, 'alpha': 0.007567682158171923, 'learning_rate': 0.1006084384294016, 'n_estimators': 59, 'min_child_weight': 5, 'gamma': 3.8755466259220374e-07, 'subsample': 0.9779188940514276, 'colsample_bytree': 0.6, 'reg_alpha': 5.607276259711348e-06, 'reg_lambda': 4.607845764128951e-05}. Best is trial 11 with value: 0.7495109690490325.\u001b[0m\n",
      "\u001b[32m[I 2023-02-09 20:23:49,655]\u001b[0m Trial 13 finished with value: 0.7135092952336286 and parameters: {'max_depth': 8, 'lambda': 4.8620892088676495, 'alpha': 0.0065557744109993885, 'learning_rate': 0.11570806870214398, 'n_estimators': 56, 'min_child_weight': 5, 'gamma': 3.4008433633847857e-07, 'subsample': 0.1598440747174333, 'colsample_bytree': 0.6, 'reg_alpha': 4.526407560685361e-06, 'reg_lambda': 1.3817098789622787e-05}. Best is trial 11 with value: 0.7495109690490325.\u001b[0m\n",
      "\u001b[32m[I 2023-02-09 20:23:52,904]\u001b[0m Trial 14 finished with value: 0.7571972592151155 and parameters: {'max_depth': 8, 'lambda': 7.895899202001558, 'alpha': 0.20592271829574685, 'learning_rate': 0.10197932407241034, 'n_estimators': 378, 'min_child_weight': 6, 'gamma': 1.6624512016476332e-07, 'subsample': 0.5504377497557076, 'colsample_bytree': 0.6, 'reg_alpha': 0.4027821171208802, 'reg_lambda': 0.0018452077981691657}. Best is trial 14 with value: 0.7571972592151155.\u001b[0m\n",
      "\u001b[32m[I 2023-02-09 20:23:56,479]\u001b[0m Trial 15 finished with value: 0.7450434511204047 and parameters: {'max_depth': 8, 'lambda': 9.504567492597959, 'alpha': 0.26620636479722076, 'learning_rate': 0.1038694920120795, 'n_estimators': 384, 'min_child_weight': 6, 'gamma': 1.1950149123737265e-08, 'subsample': 0.5316526454211864, 'colsample_bytree': 0.8, 'reg_alpha': 0.8601404630634427, 'reg_lambda': 0.002053017704680609}. Best is trial 14 with value: 0.7571972592151155.\u001b[0m\n",
      "\u001b[32m[I 2023-02-09 20:23:59,499]\u001b[0m Trial 16 finished with value: 0.5004522815013706 and parameters: {'max_depth': 8, 'lambda': 2.292488511766934, 'alpha': 0.1819686746686707, 'learning_rate': 0.2764859206651411, 'n_estimators': 386, 'min_child_weight': 4, 'gamma': 1.2573419280567742e-07, 'subsample': 0.17781364857118404, 'colsample_bytree': 0.6, 'reg_alpha': 0.7207606533098311, 'reg_lambda': 0.0017849320063942457}. Best is trial 14 with value: 0.7571972592151155.\u001b[0m\n",
      "\u001b[32m[I 2023-02-09 20:24:03,147]\u001b[0m Trial 17 finished with value: 0.7237033927098843 and parameters: {'max_depth': 8, 'lambda': 1.5371164378620867, 'alpha': 0.7104080466913127, 'learning_rate': 0.1770371307000676, 'n_estimators': 367, 'min_child_weight': 1, 'gamma': 2.724167434472713e-05, 'subsample': 0.5656560798511796, 'colsample_bytree': 0.6, 'reg_alpha': 0.0018760329665283167, 'reg_lambda': 0.0029275497350657485}. Best is trial 14 with value: 0.7571972592151155.\u001b[0m\n",
      "\u001b[32m[I 2023-02-09 20:24:04,927]\u001b[0m Trial 18 finished with value: 0.6953361147285311 and parameters: {'max_depth': 8, 'lambda': 3.3652930100194567, 'alpha': 0.08413929631673935, 'learning_rate': 0.3682696010280059, 'n_estimators': 207, 'min_child_weight': 6, 'gamma': 1.1805444267309799e-06, 'subsample': 0.51739720425923, 'colsample_bytree': 0.6, 'reg_alpha': 0.09328817138990048, 'reg_lambda': 1.5082425290041533e-05}. Best is trial 14 with value: 0.7571972592151155.\u001b[0m\n",
      "\u001b[32m[I 2023-02-09 20:24:07,697]\u001b[0m Trial 19 finished with value: 0.6507455825179888 and parameters: {'max_depth': 6, 'lambda': 9.457989249222793, 'alpha': 6.061833334140757, 'learning_rate': 0.10227587378788118, 'n_estimators': 434, 'min_child_weight': 4, 'gamma': 4.441440524943534e-08, 'subsample': 0.07885934854964019, 'colsample_bytree': 0.7, 'reg_alpha': 0.0024320101531447513, 'reg_lambda': 0.0006036188435190534}. Best is trial 14 with value: 0.7571972592151155.\u001b[0m\n",
      "\u001b[32m[I 2023-02-09 20:24:10,269]\u001b[0m Trial 20 finished with value: 0.6844119875967826 and parameters: {'max_depth': 8, 'lambda': 1.019524037714406, 'alpha': 0.0468256811925988, 'learning_rate': 0.15186605241856438, 'n_estimators': 336, 'min_child_weight': 7, 'gamma': 4.414715632147959e-05, 'subsample': 0.21991946861990125, 'colsample_bytree': 0.8, 'reg_alpha': 2.2536907761468847e-05, 'reg_lambda': 0.02270579780124756}. Best is trial 14 with value: 0.7571972592151155.\u001b[0m\n",
      "\u001b[32m[I 2023-02-09 20:24:13,638]\u001b[0m Trial 21 finished with value: 0.7414222486493162 and parameters: {'max_depth': 8, 'lambda': 7.9564623870788855, 'alpha': 0.21426873354035014, 'learning_rate': 0.11986799137044775, 'n_estimators': 407, 'min_child_weight': 6, 'gamma': 1.2064670926550425e-08, 'subsample': 0.4878836327528114, 'colsample_bytree': 0.8, 'reg_alpha': 0.6862718958703148, 'reg_lambda': 0.0026238559069018197}. Best is trial 14 with value: 0.7571972592151155.\u001b[0m\n",
      "\u001b[32m[I 2023-02-09 20:24:17,125]\u001b[0m Trial 22 finished with value: 0.7510531477560672 and parameters: {'max_depth': 8, 'lambda': 3.1775153286766047, 'alpha': 0.54032404683331, 'learning_rate': 0.10254686924927023, 'n_estimators': 425, 'min_child_weight': 6, 'gamma': 1.0841872634297712e-07, 'subsample': 0.5614601408547857, 'colsample_bytree': 0.8, 'reg_alpha': 0.2650128861353387, 'reg_lambda': 0.001167544747217193}. Best is trial 14 with value: 0.7571972592151155.\u001b[0m\n",
      "\u001b[32m[I 2023-02-09 20:24:21,166]\u001b[0m Trial 23 finished with value: 0.7386535460988279 and parameters: {'max_depth': 8, 'lambda': 3.4790555927962257, 'alpha': 0.6478495350063017, 'learning_rate': 0.12280466407882873, 'n_estimators': 499, 'min_child_weight': 7, 'gamma': 2.2492617074159232e-07, 'subsample': 0.6317183088836896, 'colsample_bytree': 0.8, 'reg_alpha': 0.15503205473713177, 'reg_lambda': 7.184205527876058e-05}. Best is trial 14 with value: 0.7571972592151155.\u001b[0m\n",
      "\u001b[32m[I 2023-02-09 20:24:24,748]\u001b[0m Trial 24 finished with value: 0.7048348481405992 and parameters: {'max_depth': 8, 'lambda': 3.164225432715413, 'alpha': 0.09863172159350056, 'learning_rate': 0.15741123661703124, 'n_estimators': 432, 'min_child_weight': 4, 'gamma': 1.2259715089107624e-06, 'subsample': 0.3237328687762384, 'colsample_bytree': 0.9, 'reg_alpha': 0.11139866358333901, 'reg_lambda': 0.06948160520040285}. Best is trial 14 with value: 0.7571972592151155.\u001b[0m\n",
      "\u001b[32m[I 2023-02-09 20:24:27,850]\u001b[0m Trial 25 finished with value: 0.736119152025203 and parameters: {'max_depth': 8, 'lambda': 2.041536327491738, 'alpha': 0.9828863436087117, 'learning_rate': 0.11905139890984373, 'n_estimators': 349, 'min_child_weight': 6, 'gamma': 6.329551454001959e-08, 'subsample': 0.6205317670511705, 'colsample_bytree': 0.8, 'reg_alpha': 0.004995402053470476, 'reg_lambda': 0.0005201225432786719}. Best is trial 14 with value: 0.7571972592151155.\u001b[0m\n",
      "\u001b[32m[I 2023-02-09 20:24:29,798]\u001b[0m Trial 26 finished with value: 0.7459803115030711 and parameters: {'max_depth': 8, 'lambda': 4.5958100665350115, 'alpha': 0.3808604912671415, 'learning_rate': 0.10097676191367758, 'n_estimators': 232, 'min_child_weight': 5, 'gamma': 5.162760453786285e-07, 'subsample': 0.4204585620634946, 'colsample_bytree': 0.6, 'reg_alpha': 0.007483824007845538, 'reg_lambda': 0.006287329069308153}. Best is trial 14 with value: 0.7571972592151155.\u001b[0m\n",
      "\u001b[32m[I 2023-02-09 20:24:31,943]\u001b[0m Trial 27 finished with value: 0.7311093260102531 and parameters: {'max_depth': 6, 'lambda': 1.287124231577965, 'alpha': 0.16658468484158032, 'learning_rate': 0.1385928403331147, 'n_estimators': 299, 'min_child_weight': 3, 'gamma': 1.1954251952537552e-07, 'subsample': 0.24889155061413606, 'colsample_bytree': 0.6, 'reg_alpha': 0.0007552394939886486, 'reg_lambda': 0.0012004078439982358}. Best is trial 14 with value: 0.7571972592151155.\u001b[0m\n",
      "\u001b[32m[I 2023-02-09 20:24:36,683]\u001b[0m Trial 28 finished with value: 0.7368783318245665 and parameters: {'max_depth': 18, 'lambda': 3.851430713888094, 'alpha': 1.7668507525085297, 'learning_rate': 0.19851152477879763, 'n_estimators': 420, 'min_child_weight': 7, 'gamma': 2.7985568561245003e-06, 'subsample': 0.7099780268940975, 'colsample_bytree': 0.8, 'reg_alpha': 0.03777922960875896, 'reg_lambda': 0.0008083039580083118}. Best is trial 14 with value: 0.7571972592151155.\u001b[0m\n",
      "\u001b[32m[I 2023-02-09 20:24:40,004]\u001b[0m Trial 29 finished with value: 0.7098427989525534 and parameters: {'max_depth': 12, 'lambda': 2.039821925025688, 'alpha': 0.05338092105351869, 'learning_rate': 0.22049021077378037, 'n_estimators': 333, 'min_child_weight': 4, 'gamma': 2.1859404476516265e-08, 'subsample': 0.365190829232453, 'colsample_bytree': 0.9, 'reg_alpha': 0.23811984832013808, 'reg_lambda': 0.11603008786263144}. Best is trial 14 with value: 0.7571972592151155.\u001b[0m\n",
      "\u001b[32m[I 2023-02-09 20:24:41,582]\u001b[0m Trial 30 finished with value: 0.7127865611763825 and parameters: {'max_depth': 8, 'lambda': 0.6902501792086937, 'alpha': 0.04005509030209318, 'learning_rate': 0.17407017445771503, 'n_estimators': 172, 'min_child_weight': 10, 'gamma': 5.0457040055596615e-08, 'subsample': 0.7283088982602433, 'colsample_bytree': 0.7, 'reg_alpha': 0.042668479889640114, 'reg_lambda': 0.0051887192994161755}. Best is trial 14 with value: 0.7571972592151155.\u001b[0m\n",
      "\u001b[32m[I 2023-02-09 20:24:43,675]\u001b[0m Trial 31 finished with value: 0.7445055770928501 and parameters: {'max_depth': 8, 'lambda': 9.713677691253865, 'alpha': 0.4443935070017788, 'learning_rate': 0.1042166451563404, 'n_estimators': 237, 'min_child_weight': 5, 'gamma': 5.12233363018602e-07, 'subsample': 0.4388256197936199, 'colsample_bytree': 0.6, 'reg_alpha': 0.29551095448764364, 'reg_lambda': 0.00722310993916312}. Best is trial 14 with value: 0.7571972592151155.\u001b[0m\n",
      "\u001b[32m[I 2023-02-09 20:24:45,670]\u001b[0m Trial 32 finished with value: 0.7238608337868726 and parameters: {'max_depth': 8, 'lambda': 3.8940819481914613, 'alpha': 0.15781045986065795, 'learning_rate': 0.12913740335846985, 'n_estimators': 234, 'min_child_weight': 5, 'gamma': 1.8387569029270262e-07, 'subsample': 0.3368747840482906, 'colsample_bytree': 0.6, 'reg_alpha': 0.008942235988417742, 'reg_lambda': 0.03232318249222694}. Best is trial 14 with value: 0.7571972592151155.\u001b[0m\n",
      "\u001b[32m[I 2023-02-09 20:24:48,075]\u001b[0m Trial 33 finished with value: 0.7409150444039827 and parameters: {'max_depth': 8, 'lambda': 5.266453884841551, 'alpha': 0.3381303283501683, 'learning_rate': 0.11580170666825108, 'n_estimators': 299, 'min_child_weight': 6, 'gamma': 5.283443511257423e-07, 'subsample': 0.4568612062691733, 'colsample_bytree': 0.6, 'reg_alpha': 0.06244269528676736, 'reg_lambda': 0.8902918535699141}. Best is trial 14 with value: 0.7571972592151155.\u001b[0m\n",
      "\u001b[32m[I 2023-02-09 20:24:49,566]\u001b[0m Trial 34 finished with value: 0.7296663589380727 and parameters: {'max_depth': 8, 'lambda': 1.9486424095710004, 'alpha': 0.5953743913634305, 'learning_rate': 0.14040170072319227, 'n_estimators': 157, 'min_child_weight': 4, 'gamma': 1.8485485576454404e-06, 'subsample': 0.42810043343725995, 'colsample_bytree': 1.0, 'reg_alpha': 0.005977062629549454, 'reg_lambda': 0.007005872263414181}. Best is trial 14 with value: 0.7571972592151155.\u001b[0m\n",
      "\u001b[32m[I 2023-02-09 20:24:52,206]\u001b[0m Trial 35 finished with value: 0.7448506965539435 and parameters: {'max_depth': 12, 'lambda': 0.9056659115255236, 'alpha': 0.0027764149333136764, 'learning_rate': 0.1009449296428619, 'n_estimators': 268, 'min_child_weight': 7, 'gamma': 6.921117961758352e-07, 'subsample': 0.707315610448884, 'colsample_bytree': 0.6, 'reg_alpha': 0.2883049048557524, 'reg_lambda': 0.025201029143606793}. Best is trial 14 with value: 0.7571972592151155.\u001b[0m\n",
      "\u001b[32m[I 2023-02-09 20:24:57,841]\u001b[0m Trial 36 finished with value: 0.7385557780228802 and parameters: {'max_depth': 18, 'lambda': 5.01495061025078, 'alpha': 0.13175477384316953, 'learning_rate': 0.11479588838563315, 'n_estimators': 453, 'min_child_weight': 3, 'gamma': 1.5940125607962846e-05, 'subsample': 0.36402461748824755, 'colsample_bytree': 1.0, 'reg_alpha': 0.0003383878215320584, 'reg_lambda': 0.0009405337858618838}. Best is trial 14 with value: 0.7571972592151155.\u001b[0m\n",
      "\u001b[32m[I 2023-02-09 20:24:59,714]\u001b[0m Trial 37 finished with value: 0.7451610263969997 and parameters: {'max_depth': 6, 'lambda': 1.3395691216922296, 'alpha': 0.27386083465777633, 'learning_rate': 0.1324446565748536, 'n_estimators': 238, 'min_child_weight': 6, 'gamma': 2.6888683994774344e-06, 'subsample': 0.7400949680196017, 'colsample_bytree': 0.9, 'reg_alpha': 0.01772872789778092, 'reg_lambda': 0.19000317437120004}. Best is trial 14 with value: 0.7571972592151155.\u001b[0m\n",
      "\u001b[32m[I 2023-02-09 20:25:01,872]\u001b[0m Trial 38 finished with value: 0.6711251626328831 and parameters: {'max_depth': 8, 'lambda': 5.90049196278236, 'alpha': 0.0241390414507438, 'learning_rate': 0.15304763554082737, 'n_estimators': 278, 'min_child_weight': 8, 'gamma': 1.7025891565648066e-07, 'subsample': 0.26482922222485616, 'colsample_bytree': 0.7, 'reg_alpha': 0.057505472260905695, 'reg_lambda': 0.009559354783145213}. Best is trial 14 with value: 0.7571972592151155.\u001b[0m\n",
      "\u001b[32m[I 2023-02-09 20:25:03,100]\u001b[0m Trial 39 finished with value: 0.7399039614301179 and parameters: {'max_depth': 8, 'lambda': 2.321340949540523, 'alpha': 1.1269369311414614, 'learning_rate': 0.11182438393176833, 'n_estimators': 125, 'min_child_weight': 5, 'gamma': 1.0384275733270993e-05, 'subsample': 0.46240527712052826, 'colsample_bytree': 0.6, 'reg_alpha': 0.02494874545661767, 'reg_lambda': 0.003711031708447456}. Best is trial 14 with value: 0.7571972592151155.\u001b[0m\n",
      "\u001b[32m[I 2023-02-09 20:25:06,235]\u001b[0m Trial 40 finished with value: 0.7519588194280546 and parameters: {'max_depth': 18, 'lambda': 0.29746306810341566, 'alpha': 0.12025205131288091, 'learning_rate': 0.13257791558202983, 'n_estimators': 158, 'min_child_weight': 2, 'gamma': 2.8015689351007867e-08, 'subsample': 0.7614960926233355, 'colsample_bytree': 0.8, 'reg_alpha': 0.30796170946401946, 'reg_lambda': 0.00015634165122637022}. Best is trial 14 with value: 0.7571972592151155.\u001b[0m\n",
      "\u001b[32m[I 2023-02-09 20:25:10,611]\u001b[0m Trial 41 finished with value: 0.7461497438157476 and parameters: {'max_depth': 18, 'lambda': 0.41779984906311, 'alpha': 0.45298359960414475, 'learning_rate': 0.13281093426265295, 'n_estimators': 165, 'min_child_weight': 1, 'gamma': 2.3357995005470468e-08, 'subsample': 0.8083490083962703, 'colsample_bytree': 0.8, 'reg_alpha': 0.34115875452990374, 'reg_lambda': 0.0002193970761209196}. Best is trial 14 with value: 0.7571972592151155.\u001b[0m\n",
      "\u001b[32m[I 2023-02-09 20:25:13,027]\u001b[0m Trial 42 finished with value: 0.7463244648060281 and parameters: {'max_depth': 18, 'lambda': 0.21833731322222327, 'alpha': 0.14867019713359889, 'learning_rate': 0.12723345510291315, 'n_estimators': 88, 'min_child_weight': 1, 'gamma': 3.017220020857517e-08, 'subsample': 0.8070333849702609, 'colsample_bytree': 0.8, 'reg_alpha': 0.3722158523916472, 'reg_lambda': 0.00018417778119834575}. Best is trial 14 with value: 0.7571972592151155.\u001b[0m\n",
      "\u001b[32m[I 2023-02-09 20:25:14,768]\u001b[0m Trial 43 finished with value: 0.7320576571516255 and parameters: {'max_depth': 18, 'lambda': 0.23167449391913464, 'alpha': 0.11523167248932072, 'learning_rate': 0.14815763321781997, 'n_estimators': 78, 'min_child_weight': 2, 'gamma': 2.7523366663119852e-08, 'subsample': 0.9543348904164202, 'colsample_bytree': 0.8, 'reg_alpha': 0.1382297569262198, 'reg_lambda': 0.00014072957039991702}. Best is trial 14 with value: 0.7571972592151155.\u001b[0m\n",
      "\u001b[32m[I 2023-02-09 20:25:16,634]\u001b[0m Trial 44 finished with value: 0.7407800244485641 and parameters: {'max_depth': 18, 'lambda': 0.07917062829779853, 'alpha': 0.06401792712918979, 'learning_rate': 0.12764110438400617, 'n_estimators': 95, 'min_child_weight': 2, 'gamma': 8.326102775333989e-08, 'subsample': 0.6339802993539145, 'colsample_bytree': 0.8, 'reg_alpha': 0.3328518957582167, 'reg_lambda': 0.00040721300299909524}. Best is trial 14 with value: 0.7571972592151155.\u001b[0m\n",
      "\u001b[32m[I 2023-02-09 20:25:19,702]\u001b[0m Trial 45 finished with value: 0.7376600759698453 and parameters: {'max_depth': 18, 'lambda': 0.21434650836979693, 'alpha': 0.09382265279532506, 'learning_rate': 0.11249346155430681, 'n_estimators': 115, 'min_child_weight': 1, 'gamma': 3.4801802817364175e-08, 'subsample': 0.7996055691563115, 'colsample_bytree': 0.8, 'reg_alpha': 0.9220945186514676, 'reg_lambda': 0.00010976817236932046}. Best is trial 14 with value: 0.7571972592151155.\u001b[0m\n",
      "\u001b[32m[I 2023-02-09 20:25:22,654]\u001b[0m Trial 46 finished with value: 0.7196297032211543 and parameters: {'max_depth': 18, 'lambda': 0.15836492902040356, 'alpha': 0.21028383521290958, 'learning_rate': 0.17023805496371222, 'n_estimators': 143, 'min_child_weight': 2, 'gamma': 1.1638058232390411e-08, 'subsample': 0.9924618436504289, 'colsample_bytree': 0.8, 'reg_alpha': 0.11997182112130844, 'reg_lambda': 4.176017952696157e-05}. Best is trial 14 with value: 0.7571972592151155.\u001b[0m\n",
      "\u001b[32m[I 2023-02-09 20:25:26,094]\u001b[0m Trial 47 finished with value: 0.7388559691799775 and parameters: {'max_depth': 18, 'lambda': 0.4588937886689922, 'alpha': 0.029056663886767625, 'learning_rate': 0.12979712402434393, 'n_estimators': 145, 'min_child_weight': 1, 'gamma': 9.366356167654188e-08, 'subsample': 0.6255536957638662, 'colsample_bytree': 0.8, 'reg_alpha': 0.059614563271477676, 'reg_lambda': 0.001362521932233019}. Best is trial 14 with value: 0.7571972592151155.\u001b[0m\n",
      "\u001b[32m[I 2023-02-09 20:25:28,410]\u001b[0m Trial 48 finished with value: 0.7349240799929027 and parameters: {'max_depth': 18, 'lambda': 0.6718669328861125, 'alpha': 0.079133213272953, 'learning_rate': 0.14363799102379893, 'n_estimators': 182, 'min_child_weight': 8, 'gamma': 2.974915171648936e-07, 'subsample': 0.5614092553812322, 'colsample_bytree': 1.0, 'reg_alpha': 0.5117864928336036, 'reg_lambda': 0.0002358435604210899}. Best is trial 14 with value: 0.7571972592151155.\u001b[0m\n",
      "\u001b[32m[I 2023-02-09 20:25:29,788]\u001b[0m Trial 49 finished with value: 0.7309032455262783 and parameters: {'max_depth': 12, 'lambda': 0.29997513650125956, 'alpha': 0.12156869584906001, 'learning_rate': 0.1075057334587505, 'n_estimators': 90, 'min_child_weight': 3, 'gamma': 2.205584022899512e-08, 'subsample': 0.8247907897860591, 'colsample_bytree': 0.8, 'reg_alpha': 0.025137236593629087, 'reg_lambda': 5.465887678218882e-05}. Best is trial 14 with value: 0.7571972592151155.\u001b[0m\n",
      "\u001b[32m[I 2023-02-09 20:25:31,190]\u001b[0m Trial 50 finished with value: 0.7373230669354796 and parameters: {'max_depth': 18, 'lambda': 6.841915599579191, 'alpha': 0.016621231618954947, 'learning_rate': 0.16149427149172368, 'n_estimators': 72, 'min_child_weight': 2, 'gamma': 8.366729304181354e-08, 'subsample': 0.5770948719203097, 'colsample_bytree': 0.8, 'reg_alpha': 0.1769132971643575, 'reg_lambda': 0.0007447081541077742}. Best is trial 14 with value: 0.7571972592151155.\u001b[0m\n",
      "\u001b[32m[I 2023-02-09 20:25:35,849]\u001b[0m Trial 51 finished with value: 0.741559233286444 and parameters: {'max_depth': 18, 'lambda': 0.28384101609469053, 'alpha': 0.239149199039221, 'learning_rate': 0.1223467629386806, 'n_estimators': 177, 'min_child_weight': 1, 'gamma': 2.610605754127397e-08, 'subsample': 0.8042081225547966, 'colsample_bytree': 0.8, 'reg_alpha': 0.32333047069339843, 'reg_lambda': 0.0003518307264060087}. Best is trial 14 with value: 0.7571972592151155.\u001b[0m\n",
      "\u001b[32m[I 2023-02-09 20:25:41,571]\u001b[0m Trial 52 finished with value: 0.7437020182854113 and parameters: {'max_depth': 18, 'lambda': 0.35621847524295475, 'alpha': 0.3964351751099296, 'learning_rate': 0.1107212993622774, 'n_estimators': 215, 'min_child_weight': 1, 'gamma': 1.2039070549054044e-08, 'subsample': 0.8330631568656695, 'colsample_bytree': 0.8, 'reg_alpha': 0.9605531868284544, 'reg_lambda': 0.0001610934279782953}. Best is trial 14 with value: 0.7571972592151155.\u001b[0m\n",
      "\u001b[32m[I 2023-02-09 20:25:44,732]\u001b[0m Trial 53 finished with value: 0.7230589411538906 and parameters: {'max_depth': 18, 'lambda': 0.4996914822868076, 'alpha': 0.06257917891738575, 'learning_rate': 0.13499307839466398, 'n_estimators': 157, 'min_child_weight': 2, 'gamma': 1.8506402723097028e-07, 'subsample': 0.9926795507284301, 'colsample_bytree': 0.8, 'reg_alpha': 0.4329723860819444, 'reg_lambda': 0.0002772169338066251}. Best is trial 14 with value: 0.7571972592151155.\u001b[0m\n",
      "\u001b[32m[I 2023-02-09 20:25:49,358]\u001b[0m Trial 54 finished with value: 0.740769138130607 and parameters: {'max_depth': 18, 'lambda': 0.1281330040150114, 'alpha': 0.513941789571209, 'learning_rate': 0.1237579950689755, 'n_estimators': 192, 'min_child_weight': 1, 'gamma': 3.242744145866402e-08, 'subsample': 0.5597125523473057, 'colsample_bytree': 0.8, 'reg_alpha': 0.09539944760637051, 'reg_lambda': 0.0021086188446444855}. Best is trial 14 with value: 0.7571972592151155.\u001b[0m\n",
      "\u001b[32m[I 2023-02-09 20:25:52,626]\u001b[0m Trial 55 finished with value: 0.7587680425720034 and parameters: {'max_depth': 6, 'lambda': 0.917173319575535, 'alpha': 0.3319033892469743, 'learning_rate': 0.10031387296251976, 'n_estimators': 394, 'min_child_weight': 3, 'gamma': 6.05644360360966e-08, 'subsample': 0.6933623056679814, 'colsample_bytree': 0.8, 'reg_alpha': 0.492638409590334, 'reg_lambda': 1.862088620079527e-05}. Best is trial 55 with value: 0.7587680425720034.\u001b[0m\n",
      "\u001b[32m[I 2023-02-09 20:25:55,422]\u001b[0m Trial 56 finished with value: 0.7491405382288664 and parameters: {'max_depth': 6, 'lambda': 2.748646662780237, 'alpha': 0.28705147744585485, 'learning_rate': 0.10040997289456796, 'n_estimators': 389, 'min_child_weight': 3, 'gamma': 2.719141073234638e-07, 'subsample': 0.48139813465327635, 'colsample_bytree': 0.7, 'reg_alpha': 0.9809135113109254, 'reg_lambda': 1.559407653202272e-05}. Best is trial 55 with value: 0.7587680425720034.\u001b[0m\n",
      "\u001b[32m[I 2023-02-09 20:25:58,226]\u001b[0m Trial 57 finished with value: 0.7508355182131974 and parameters: {'max_depth': 6, 'lambda': 2.6836060085298383, 'alpha': 0.29590549633844615, 'learning_rate': 0.10840004470245886, 'n_estimators': 394, 'min_child_weight': 3, 'gamma': 8.54926174491625e-07, 'subsample': 0.5080540552626923, 'colsample_bytree': 0.7, 'reg_alpha': 0.90683772604496, 'reg_lambda': 1.6787358364758567e-05}. Best is trial 55 with value: 0.7587680425720034.\u001b[0m\n",
      "\u001b[32m[I 2023-02-09 20:26:00,713]\u001b[0m Trial 58 finished with value: 0.7216447066178872 and parameters: {'max_depth': 6, 'lambda': 7.898350572990716, 'alpha': 0.7771699591545903, 'learning_rate': 0.11001915436855839, 'n_estimators': 360, 'min_child_weight': 3, 'gamma': 1.0423569054327201e-06, 'subsample': 0.30682210015353195, 'colsample_bytree': 0.7, 'reg_alpha': 0.20937031430026612, 'reg_lambda': 4.7018662648493905e-06}. Best is trial 55 with value: 0.7587680425720034.\u001b[0m\n",
      "\u001b[32m[I 2023-02-09 20:26:04,098]\u001b[0m Trial 59 finished with value: 0.7179109121093873 and parameters: {'max_depth': 6, 'lambda': 2.8884729712438455, 'alpha': 0.1980616511553152, 'learning_rate': 0.10881721748511052, 'n_estimators': 459, 'min_child_weight': 4, 'gamma': 7.386233904724147e-07, 'subsample': 0.3719399175780165, 'colsample_bytree': 0.7, 'reg_alpha': 0.5503654367139988, 'reg_lambda': 7.940163215659883e-05}. Best is trial 55 with value: 0.7587680425720034.\u001b[0m\n",
      "\u001b[32m[I 2023-02-09 20:26:08,687]\u001b[0m Trial 60 finished with value: 0.7606754511049609 and parameters: {'max_depth': 6, 'lambda': 1.5817665394822982, 'alpha': 0.27423377305128405, 'learning_rate': 0.11814728939466543, 'n_estimators': 398, 'min_child_weight': 4, 'gamma': 1.1832766545191179e-07, 'subsample': 0.6817264670065534, 'colsample_bytree': 0.7, 'reg_alpha': 0.08610989116391611, 'reg_lambda': 2.9505831822883092e-05}. Best is trial 60 with value: 0.7606754511049609.\u001b[0m\n",
      "\u001b[32m[I 2023-02-09 20:26:13,653]\u001b[0m Trial 61 finished with value: 0.7545066261749075 and parameters: {'max_depth': 6, 'lambda': 1.5371840249852258, 'alpha': 0.3101060080844696, 'learning_rate': 0.11567543055502436, 'n_estimators': 392, 'min_child_weight': 4, 'gamma': 1.2374589543953338e-07, 'subsample': 0.6471279685652657, 'colsample_bytree': 0.7, 'reg_alpha': 0.0853314732229436, 'reg_lambda': 3.0244988036283242e-05}. Best is trial 60 with value: 0.7606754511049609.\u001b[0m\n",
      "\u001b[32m[I 2023-02-09 20:26:17,938]\u001b[0m Trial 62 finished with value: 0.7497263986043061 and parameters: {'max_depth': 6, 'lambda': 1.702497393753562, 'alpha': 0.31749535342441665, 'learning_rate': 0.11895360944987401, 'n_estimators': 404, 'min_child_weight': 3, 'gamma': 9.50638524409395e-08, 'subsample': 0.6567398932525375, 'colsample_bytree': 0.7, 'reg_alpha': 0.08296898641020527, 'reg_lambda': 2.6545947941352537e-05}. Best is trial 60 with value: 0.7606754511049609.\u001b[0m\n",
      "\u001b[32m[I 2023-02-09 20:26:21,992]\u001b[0m Trial 63 finished with value: 0.7278873802062227 and parameters: {'max_depth': 6, 'lambda': 0.9892694966039247, 'alpha': 0.5330310657922223, 'learning_rate': 0.11940978986180739, 'n_estimators': 376, 'min_child_weight': 4, 'gamma': 6.032881005007983e-08, 'subsample': 0.5038338659673174, 'colsample_bytree': 0.7, 'reg_alpha': 0.1807382878025831, 'reg_lambda': 1.0594667246927257e-05}. Best is trial 60 with value: 0.7606754511049609.\u001b[0m\n",
      "\u001b[32m[I 2023-02-09 20:26:25,746]\u001b[0m Trial 64 finished with value: 0.7420641374100858 and parameters: {'max_depth': 6, 'lambda': 1.3642784439670963, 'alpha': 0.2536052277117109, 'learning_rate': 0.14388143688500382, 'n_estimators': 443, 'min_child_weight': 3, 'gamma': 1.4267064027484614e-07, 'subsample': 0.5523707363923065, 'colsample_bytree': 0.7, 'reg_alpha': 0.540523279683482, 'reg_lambda': 3.6024288206125653e-06}. Best is trial 60 with value: 0.7606754511049609.\u001b[0m\n",
      "\u001b[32m[I 2023-02-09 20:26:29,621]\u001b[0m Trial 65 finished with value: 0.7651814691060089 and parameters: {'max_depth': 6, 'lambda': 1.6270378198657665, 'alpha': 0.17478550135384122, 'learning_rate': 0.10094231455222795, 'n_estimators': 406, 'min_child_weight': 4, 'gamma': 3.517885698459128e-07, 'subsample': 0.41524912933830593, 'colsample_bytree': 0.7, 'reg_alpha': 0.03972944253323202, 'reg_lambda': 2.7571048655044116e-05}. Best is trial 65 with value: 0.7651814691060089.\u001b[0m\n",
      "\u001b[32m[I 2023-02-09 20:26:32,699]\u001b[0m Trial 66 finished with value: 0.7361595566375227 and parameters: {'max_depth': 6, 'lambda': 0.8389100238049517, 'alpha': 0.18167694738605794, 'learning_rate': 0.10156035977814412, 'n_estimators': 419, 'min_child_weight': 4, 'gamma': 3.3267705394788597e-07, 'subsample': 0.40080065567326484, 'colsample_bytree': 0.7, 'reg_alpha': 0.03668038585548778, 'reg_lambda': 3.562340691447263e-05}. Best is trial 65 with value: 0.7651814691060089.\u001b[0m\n",
      "\u001b[32m[I 2023-02-09 20:26:37,301]\u001b[0m Trial 67 finished with value: 0.7517412547054245 and parameters: {'max_depth': 6, 'lambda': 1.5826813979229257, 'alpha': 0.38740274722841694, 'learning_rate': 0.11757082167242278, 'n_estimators': 480, 'min_child_weight': 5, 'gamma': 6.215883005578951e-08, 'subsample': 0.6746125048297277, 'colsample_bytree': 0.7, 'reg_alpha': 0.07868331113689031, 'reg_lambda': 0.00010652576197993636}. Best is trial 65 with value: 0.7651814691060089.\u001b[0m\n",
      "\u001b[32m[I 2023-02-09 20:26:40,300]\u001b[0m Trial 68 finished with value: 0.744766925676772 and parameters: {'max_depth': 6, 'lambda': 0.6123930721297659, 'alpha': 0.1425952045860266, 'learning_rate': 0.15363758434966002, 'n_estimators': 311, 'min_child_weight': 5, 'gamma': 4.6926484546862935e-08, 'subsample': 0.6549105948184845, 'colsample_bytree': 0.7, 'reg_alpha': 0.014119748902997902, 'reg_lambda': 8.789720474631811e-05}. Best is trial 65 with value: 0.7651814691060089.\u001b[0m\n",
      "\u001b[32m[I 2023-02-09 20:26:43,948]\u001b[0m Trial 69 finished with value: 0.7524485429076515 and parameters: {'max_depth': 6, 'lambda': 1.6109809541717606, 'alpha': 0.41382379577746753, 'learning_rate': 0.11759390960119347, 'n_estimators': 497, 'min_child_weight': 4, 'gamma': 2.9060043207595e-07, 'subsample': 0.702564412868219, 'colsample_bytree': 0.7, 'reg_alpha': 0.09292298058707585, 'reg_lambda': 2.982302589689468e-05}. Best is trial 65 with value: 0.7651814691060089.\u001b[0m\n",
      "\u001b[32m[I 2023-02-09 20:26:47,531]\u001b[0m Trial 70 finished with value: 0.7370421926857655 and parameters: {'max_depth': 6, 'lambda': 1.1237621467417027, 'alpha': 0.20329338374457284, 'learning_rate': 0.1351561772556853, 'n_estimators': 483, 'min_child_weight': 4, 'gamma': 4.128067732278683e-07, 'subsample': 0.8986151999179464, 'colsample_bytree': 0.7, 'reg_alpha': 0.03507586803724454, 'reg_lambda': 2.771158644838931e-05}. Best is trial 65 with value: 0.7651814691060089.\u001b[0m\n",
      "\u001b[32m[I 2023-02-09 20:26:51,151]\u001b[0m Trial 71 finished with value: 0.7609452141963746 and parameters: {'max_depth': 6, 'lambda': 1.6105444603356704, 'alpha': 0.37592317115197704, 'learning_rate': 0.11804412130395259, 'n_estimators': 472, 'min_child_weight': 4, 'gamma': 1.9755489988543758e-07, 'subsample': 0.7216512509245514, 'colsample_bytree': 0.7, 'reg_alpha': 0.06600051328831415, 'reg_lambda': 5.699269500177585e-05}. Best is trial 65 with value: 0.7651814691060089.\u001b[0m\n",
      "\u001b[32m[I 2023-02-09 20:26:55,065]\u001b[0m Trial 72 finished with value: 0.757317420971806 and parameters: {'max_depth': 6, 'lambda': 0.7819889564736128, 'alpha': 0.7306589390455706, 'learning_rate': 0.12382478635181972, 'n_estimators': 492, 'min_child_weight': 4, 'gamma': 1.9364104286726846e-07, 'subsample': 0.6679758476745341, 'colsample_bytree': 0.7, 'reg_alpha': 0.12222441834260132, 'reg_lambda': 5.5911609404432116e-05}. Best is trial 65 with value: 0.7651814691060089.\u001b[0m\n",
      "\u001b[32m[I 2023-02-09 20:26:58,473]\u001b[0m Trial 73 finished with value: 0.7444132515343114 and parameters: {'max_depth': 6, 'lambda': 1.8013462462477225, 'alpha': 0.7386380121363334, 'learning_rate': 0.10828229781509538, 'n_estimators': 466, 'min_child_weight': 4, 'gamma': 1.9304208020125017e-07, 'subsample': 0.43537722378078075, 'colsample_bytree': 0.7, 'reg_alpha': 0.132970729314296, 'reg_lambda': 5.508300719058563e-05}. Best is trial 65 with value: 0.7651814691060089.\u001b[0m\n",
      "\u001b[32m[I 2023-02-09 20:27:02,260]\u001b[0m Trial 74 finished with value: 0.7471833389226485 and parameters: {'max_depth': 6, 'lambda': 1.1822285603573368, 'alpha': 0.33183189572759164, 'learning_rate': 0.12352129890403427, 'n_estimators': 500, 'min_child_weight': 4, 'gamma': 2.816986046383784e-07, 'subsample': 0.6982640608309801, 'colsample_bytree': 0.7, 'reg_alpha': 0.04815264373823762, 'reg_lambda': 8.651718632013698e-06}. Best is trial 65 with value: 0.7651814691060089.\u001b[0m\n",
      "\u001b[32m[I 2023-02-09 20:27:05,643]\u001b[0m Trial 75 finished with value: 0.7586574681552549 and parameters: {'max_depth': 6, 'lambda': 4.078951855947565, 'alpha': 0.9357126606723423, 'learning_rate': 0.11406881630804061, 'n_estimators': 446, 'min_child_weight': 5, 'gamma': 1.6053511499735156e-07, 'subsample': 0.5755855015996744, 'colsample_bytree': 0.7, 'reg_alpha': 0.017764745456099365, 'reg_lambda': 2.5447038304638062e-05}. Best is trial 65 with value: 0.7651814691060089.\u001b[0m\n",
      "\u001b[32m[I 2023-02-09 20:27:09,007]\u001b[0m Trial 76 finished with value: 0.748930997104072 and parameters: {'max_depth': 6, 'lambda': 3.8915557823097884, 'alpha': 0.9432968097174889, 'learning_rate': 0.10601715404068142, 'n_estimators': 439, 'min_child_weight': 5, 'gamma': 1.409342255220142e-07, 'subsample': 0.4976686677854044, 'colsample_bytree': 0.7, 'reg_alpha': 0.016897636656497492, 'reg_lambda': 6.48078771193527e-05}. Best is trial 65 with value: 0.7651814691060089.\u001b[0m\n",
      "\u001b[32m[I 2023-02-09 20:27:12,165]\u001b[0m Trial 77 finished with value: 0.7409027721230466 and parameters: {'max_depth': 6, 'lambda': 0.7971568640464236, 'alpha': 1.4965730492039693, 'learning_rate': 0.10012153390812216, 'n_estimators': 409, 'min_child_weight': 4, 'gamma': 5.186518064607805e-07, 'subsample': 0.5930801664912749, 'colsample_bytree': 0.7, 'reg_alpha': 0.01101588411767368, 'reg_lambda': 2.1443775521091055e-05}. Best is trial 65 with value: 0.7651814691060089.\u001b[0m\n",
      "\u001b[32m[I 2023-02-09 20:27:14,961]\u001b[0m Trial 78 finished with value: 0.730679972462036 and parameters: {'max_depth': 6, 'lambda': 2.4016179967049864, 'alpha': 0.5875624192311226, 'learning_rate': 0.1426053872240677, 'n_estimators': 358, 'min_child_weight': 5, 'gamma': 1.331457886569831e-06, 'subsample': 0.4106682597406238, 'colsample_bytree': 0.9, 'reg_alpha': 0.028839341653605327, 'reg_lambda': 7.760070446419057e-06}. Best is trial 65 with value: 0.7651814691060089.\u001b[0m\n",
      "\u001b[32m[I 2023-02-09 20:27:18,566]\u001b[0m Trial 79 finished with value: 0.738581946857328 and parameters: {'max_depth': 6, 'lambda': 4.354622710066357, 'alpha': 0.7088842453452735, 'learning_rate': 0.11416143723613968, 'n_estimators': 470, 'min_child_weight': 5, 'gamma': 1.406224591762767e-07, 'subsample': 0.8751806665996503, 'colsample_bytree': 0.7, 'reg_alpha': 0.056750930579671434, 'reg_lambda': 4.4408053077528686e-05}. Best is trial 65 with value: 0.7651814691060089.\u001b[0m\n"
     ]
    }
   ],
   "source": [
    "study = optuna.create_study(direction='maximize')\n",
    "study.optimize(objective, n_trials=80)"
   ]
  },
  {
   "cell_type": "code",
   "execution_count": 51,
   "id": "2d120817-f93d-45f2-aee1-862371afdbd3",
   "metadata": {},
   "outputs": [
    {
     "name": "stdout",
     "output_type": "stream",
     "text": [
      "Number of finished trials: 80\n",
      "Best trial: {'max_depth': 6, 'lambda': 1.6270378198657665, 'alpha': 0.17478550135384122, 'learning_rate': 0.10094231455222795, 'n_estimators': 406, 'min_child_weight': 4, 'gamma': 3.517885698459128e-07, 'subsample': 0.41524912933830593, 'colsample_bytree': 0.7, 'reg_alpha': 0.03972944253323202, 'reg_lambda': 2.7571048655044116e-05}\n",
      "Best Value: 0.7651814691060089\n",
      "Best Params: \n",
      "max_depth: 6\n",
      "lambda: 1.6270378198657665\n",
      "alpha: 0.17478550135384122\n",
      "learning_rate: 0.10094231455222795\n",
      "n_estimators: 406\n",
      "min_child_weight: 4\n",
      "gamma: 3.517885698459128e-07\n",
      "subsample: 0.41524912933830593\n",
      "colsample_bytree: 0.7\n",
      "reg_alpha: 0.03972944253323202\n",
      "reg_lambda: 2.7571048655044116e-05\n"
     ]
    }
   ],
   "source": [
    "print('Number of finished trials:', len(study.trials))\n",
    "print('Best trial:', study.best_trial.params)\n",
    "trial = study.best_trial\n",
    "print('Best Value: {}'.format(trial.value))\n",
    "print('Best Params: ')\n",
    "\n",
    "for key, value in trial.params.items():\n",
    "    print('{}: {}'.format(key, value))"
   ]
  },
  {
   "cell_type": "code",
   "execution_count": 52,
   "id": "2bdff350-863b-4d2e-a9a3-d91f80c7faff",
   "metadata": {},
   "outputs": [
    {
     "data": {
      "text/plain": [
       "<AxesSubplot:title={'center':'Empirical Distribution Function Plot'}, xlabel='Objective Value', ylabel='Cumulative Probability'>"
      ]
     },
     "execution_count": 52,
     "metadata": {},
     "output_type": "execute_result"
    },
    {
     "data": {
      "image/png": "[encoded data removed]",
      "text/plain": [
       "<Figure size 432x288 with 1 Axes>"
      ]
     },
     "metadata": {},
     "output_type": "display_data"
    }
   ],
   "source": [
    "#Visualize empirical distribution function\n",
    "optuna.visualization.matplotlib.plot_edf(study)"
   ]
  },
  {
   "cell_type": "code",
   "execution_count": 53,
   "id": "11bd21c9-a79c-4107-851c-29f01e026aad",
   "metadata": {},
   "outputs": [
    {
     "data": {
      "text/plain": [
       "<AxesSubplot:title={'center':'Hyperparameter Importances'}, xlabel='Importance for Objective Value', ylabel='Hyperparameter'>"
      ]
     },
     "execution_count": 53,
     "metadata": {},
     "output_type": "execute_result"
    },
    {
     "data": {
      "image/png": "[encoded data removed]",
      "text/plain": [
       "<Figure size 432x288 with 1 Axes>"
      ]
     },
     "metadata": {},
     "output_type": "display_data"
    }
   ],
   "source": [
    "#Visualize parameter importances.\n",
    "optuna.visualization.matplotlib.plot_param_importances(study)"
   ]
  },
  {
   "cell_type": "code",
   "execution_count": 54,
   "id": "b1e8c07b-b534-4059-a417-bd715f4ff0db",
   "metadata": {},
   "outputs": [
    {
     "name": "stdout",
     "output_type": "stream",
     "text": [
      "R2 score for XGBoost model (test): 0.7786232526434065\n",
      "R2 score for XGBoost model (train): 0.9887110548607402\n"
     ]
    }
   ],
   "source": [
    "tuned_model = xgb.XGBRegressor(**trial.params) \n",
    "tuned_model.fit(X_train, y_train)\n",
    "y_preds = tuned_model.predict(X_test)\n",
    "r2_train = r2_score(y_train, tuned_model.predict(X_train))\n",
    "r2_test = r2_score(y_test, y_preds)\n",
    "print(\"R2 score for XGBoost model (test):\", r2_test)\n",
    "print(\"R2 score for XGBoost model (train):\", r2_train)"
   ]
  },
  {
   "cell_type": "code",
   "execution_count": null,
   "id": "a386a11b-f533-442a-b5f4-f554b8f800f4",
   "metadata": {},
   "outputs": [],
   "source": []
  }
 ],
 "metadata": {
  "kernelspec": {
   "display_name": "Python 3",
   "language": "python",
   "name": "python3"
  },
  "language_info": {
   "codemirror_mode": {
    "name": "ipython",
    "version": 3
   },
   "file_extension": ".py",
   "mimetype": "text/x-python",
   "name": "python",
   "nbconvert_exporter": "python",
   "pygments_lexer": "ipython3",
   "version": "3.8.5"
  }
 },
 "nbformat": 4,
 "nbformat_minor": 5
}
