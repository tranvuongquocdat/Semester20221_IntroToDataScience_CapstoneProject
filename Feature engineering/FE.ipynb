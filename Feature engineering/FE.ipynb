{
 "cells": [
  {
   "cell_type": "code",
   "execution_count": 1,
   "id": "abdeb349-e069-4a59-a7cf-9cb2e580731d",
   "metadata": {},
   "outputs": [],
   "source": [
    "import pandas as pd\n",
    "import numpy as np\n",
    "import seaborn as sns\n",
    "import matplotlib.pyplot as plt\n",
    "%matplotlib inline\n",
    "from sklearn.model_selection import train_test_split"
   ]
  },
  {
   "cell_type": "code",
   "execution_count": 2,
   "id": "e551e71b-ec2b-4ab8-9c40-a18586364961",
   "metadata": {},
   "outputs": [],
   "source": [
    "from sklearn.experimental import enable_iterative_imputer\n",
    "from sklearn.impute import IterativeImputer, KNNImputer\n",
    "from sklearn.impute import SimpleImputer\n",
    "from sklearn.ensemble import RandomForestRegressor"
   ]
  },
  {
   "cell_type": "code",
   "execution_count": 3,
   "id": "70e3502c-61a0-4bd0-bc52-47a508d8419f",
   "metadata": {},
   "outputs": [],
   "source": [
    "plt.rcParams[\"figure.figsize\"] = (12,8)"
   ]
  },
  {
   "cell_type": "code",
   "execution_count": 4,
   "id": "fcf1cccd-77db-48ee-8261-f7c91457b961",
   "metadata": {},
   "outputs": [],
   "source": [
    "df_train = pd.read_csv(\"data_used/df_train.csv\")\n",
    "df_test = pd.read_csv(\"data_used/df_test.csv\")"
   ]
  },
  {
   "cell_type": "code",
   "execution_count": 5,
   "id": "f4e950e4-f39c-4859-bc17-0660008d84d9",
   "metadata": {},
   "outputs": [
    {
     "name": "stdout",
     "output_type": "stream",
     "text": [
      "Training shape: (702, 18)\n",
      "Testing shape:: (176, 18)\n"
     ]
    }
   ],
   "source": [
    "print(\"Training shape:\", df_train.shape)\n",
    "print(\"Testing shape::\", df_test.shape)"
   ]
  },
  {
   "cell_type": "code",
   "execution_count": 6,
   "id": "fb84338d-a01c-45ed-8c3c-1352db101f3f",
   "metadata": {},
   "outputs": [
    {
     "data": {
      "text/plain": [
       "0.0          693\n",
       "1.0            5\n",
       "1024.0         3\n",
       "5121024.0      1\n",
       "Name: HDD_capacity, dtype: int64"
      ]
     },
     "execution_count": 6,
     "metadata": {},
     "output_type": "execute_result"
    }
   ],
   "source": [
    "df_train[\"HDD_capacity\"].value_counts()"
   ]
  },
  {
   "cell_type": "markdown",
   "id": "825f6bf0-e179-40d7-84d5-3385c3acdf17",
   "metadata": {
    "tags": []
   },
   "source": [
    "Most laptops don't use HDD, so we remove this feature"
   ]
  },
  {
   "cell_type": "code",
   "execution_count": 7,
   "id": "efaf25ff-38c3-4216-a6ba-fcc2f828d8b3",
   "metadata": {},
   "outputs": [],
   "source": [
    "df_train = df_train.drop(\"HDD_capacity\", axis = 1)\n",
    "df_test = df_test.drop(\"HDD_capacity\", axis = 1)"
   ]
  },
  {
   "cell_type": "markdown",
   "id": "bf8d41c5-6d30-49ff-91a0-3b554fb64986",
   "metadata": {},
   "source": [
    "Remove SSD_capacity > 8000 as these are outliers"
   ]
  },
  {
   "cell_type": "code",
   "execution_count": 8,
   "id": "138f31fc-1f62-410a-afcf-cb772a00155c",
   "metadata": {},
   "outputs": [],
   "source": [
    "df_train = df_train.drop(index = df_train[df_train[\"SSD_capacity\"]>8000].index).reset_index(drop = True)"
   ]
  },
  {
   "cell_type": "markdown",
   "id": "0fdb5e1e-2ba6-4a30-82c7-e1d4bbbfaad5",
   "metadata": {},
   "source": [
    "#### Handling missing values"
   ]
  },
  {
   "cell_type": "code",
   "execution_count": 9,
   "id": "42f4b16a-3ac6-45f9-8c30-e51e3dfc951f",
   "metadata": {},
   "outputs": [],
   "source": [
    "ram_imputer = SimpleImputer(strategy='most_frequent')\n",
    "df_train[\"ram_type\"] = ram_imputer.fit_transform(df_train[[\"ram_type\"]])\n",
    "df_test[\"ram_type\"] = ram_imputer.transform(df_test[[\"ram_type\"]])"
   ]
  },
  {
   "cell_type": "markdown",
   "id": "bc5588f1-3ed9-4048-a163-202b414a6225",
   "metadata": {},
   "source": [
    "To impute the missing value for the type of ram, we simply replace the missing value by the most popular one"
   ]
  },
  {
   "cell_type": "code",
   "execution_count": 10,
   "id": "9430a6ba-b9c3-4159-9a8d-b493ddcaff06",
   "metadata": {},
   "outputs": [
    {
     "data": {
      "text/plain": [
       "DDR4                 533\n",
       "DDR5                  83\n",
       "LPDDR5                46\n",
       "LPDDR4x               21\n",
       "LPDDR3                13\n",
       "LPDDDR5                1\n",
       "DDR3L                  1\n",
       "DDR5-4800 SO-DIMM      1\n",
       "LPDDR3L                1\n",
       "Name: ram_type, dtype: int64"
      ]
     },
     "execution_count": 10,
     "metadata": {},
     "output_type": "execute_result"
    }
   ],
   "source": [
    "df_train[\"ram_type\"].value_counts()"
   ]
  },
  {
   "cell_type": "markdown",
   "id": "d917cac7-9f9d-4717-842d-c94eaae028fe",
   "metadata": {},
   "source": [
    "Normalize the type of ram"
   ]
  },
  {
   "cell_type": "code",
   "execution_count": 11,
   "id": "9a3c6260-efdb-490c-a1de-360134ffd768",
   "metadata": {},
   "outputs": [],
   "source": [
    "def normalize_ram(x):\n",
    "    if x == \"DDR5-4800 SO-DIMM\":\n",
    "        return \"DDR5\"\n",
    "    elif x == \"LPDDDR5\":\n",
    "        return \"LPDDR5\"\n",
    "    elif x == \"LPDDR3L\" or x == \"DDR3L\":\n",
    "        return \"LPDDR3\"\n",
    "    else:\n",
    "        return x"
   ]
  },
  {
   "cell_type": "code",
   "execution_count": 12,
   "id": "13a65993-1fcc-4ede-8567-f4fb0ce9b48a",
   "metadata": {},
   "outputs": [],
   "source": [
    "df_train[\"ram_type\"] = df_train[\"ram_type\"].apply(normalize_ram)\n",
    "df_test[\"ram_type\"] = df_test[\"ram_type\"].apply(normalize_ram)"
   ]
  },
  {
   "cell_type": "code",
   "execution_count": 13,
   "id": "67a6cddc-c197-470d-be27-b9bc046fbbd1",
   "metadata": {},
   "outputs": [
    {
     "data": {
      "text/plain": [
       "DDR4       533\n",
       "DDR5        84\n",
       "LPDDR5      47\n",
       "LPDDR4x     21\n",
       "LPDDR3      15\n",
       "Name: ram_type, dtype: int64"
      ]
     },
     "execution_count": 13,
     "metadata": {},
     "output_type": "execute_result"
    }
   ],
   "source": [
    "df_train[\"ram_type\"].value_counts()"
   ]
  },
  {
   "cell_type": "code",
   "execution_count": 14,
   "id": "dc5afdc0-bbc7-46d6-a74b-cdd97e62940a",
   "metadata": {},
   "outputs": [
    {
     "data": {
      "text/plain": [
       "Index(['website', 'battery', 'weight', 'laptop_brand', 'monitor_size',\n",
       "       'ram_capacity', 'ram_type', 'SSD_capacity', 'cpu_brand', 'cpu_core_num',\n",
       "       'cpu_thread_num', 'avg_bench', 'gamming', 'desktop', 'workstation',\n",
       "       'gpu_score', 'price'],\n",
       "      dtype='object')"
      ]
     },
     "execution_count": 14,
     "metadata": {},
     "output_type": "execute_result"
    }
   ],
   "source": [
    "df_train.columns"
   ]
  },
  {
   "cell_type": "code",
   "execution_count": 15,
   "id": "2ac3f22b-77dd-4aa3-8587-af5aa11b440d",
   "metadata": {},
   "outputs": [
    {
     "data": {
      "text/plain": [
       "array([[<AxesSubplot:title={'center':'battery'}>,\n",
       "        <AxesSubplot:title={'center':'weight'}>,\n",
       "        <AxesSubplot:title={'center':'monitor_size'}>,\n",
       "        <AxesSubplot:title={'center':'ram_capacity'}>],\n",
       "       [<AxesSubplot:title={'center':'SSD_capacity'}>,\n",
       "        <AxesSubplot:title={'center':'cpu_core_num'}>,\n",
       "        <AxesSubplot:title={'center':'cpu_thread_num'}>,\n",
       "        <AxesSubplot:title={'center':'avg_bench'}>],\n",
       "       [<AxesSubplot:title={'center':'gamming'}>,\n",
       "        <AxesSubplot:title={'center':'desktop'}>,\n",
       "        <AxesSubplot:title={'center':'workstation'}>,\n",
       "        <AxesSubplot:title={'center':'gpu_score'}>],\n",
       "       [<AxesSubplot:title={'center':'price'}>, <AxesSubplot:>,\n",
       "        <AxesSubplot:>, <AxesSubplot:>]], dtype=object)"
      ]
     },
     "execution_count": 15,
     "metadata": {},
     "output_type": "execute_result"
    },
    {
     "data": {
      "image/png": "[encoded data removed]",
      "text/plain": [
       "<Figure size 864x576 with 16 Axes>"
      ]
     },
     "metadata": {
      "needs_background": "light"
     },
     "output_type": "display_data"
    }
   ],
   "source": [
    "df_train.hist(bins = 20)"
   ]
  },
  {
   "cell_type": "markdown",
   "id": "ccd75a7d-87f8-4f7a-b2e2-ce0d0c0eb388",
   "metadata": {},
   "source": [
    "As the value 0 from the CPU benchmark show that the score is missing, we replace those by NA to avoid misleading the models"
   ]
  },
  {
   "cell_type": "code",
   "execution_count": 16,
   "id": "6be94ba1-9cf5-4617-819d-b533970b0a2e",
   "metadata": {},
   "outputs": [],
   "source": [
    "df_train[\"avg_bench\"] = df_train[\"avg_bench\"].replace(0, np.nan)\n",
    "df_train[\"desktop\"] = df_train[\"desktop\"].replace(0, np.nan)\n",
    "df_train[\"gamming\"] = df_train[\"gamming\"].replace(0, np.nan)\n",
    "df_train[\"workstation\"] = df_train[\"workstation\"].replace(0, np.nan)\n",
    "df_test[\"avg_bench\"] = df_test[\"avg_bench\"].replace(0, np.nan)\n",
    "df_test[\"desktop\"] = df_test[\"desktop\"].replace(0, np.nan)\n",
    "df_test[\"gamming\"] = df_test[\"gamming\"].replace(0, np.nan)\n",
    "df_test[\"workstation\"] = df_test[\"workstation\"].replace(0, np.nan)\n",
    "# df_train = df_train.drop([\"desktop\", \"gamming\", \"workstation\"], axis = 1)\n",
    "# df_test = df_test.drop([\"desktop\", \"gamming\", \"workstation\"], axis = 1)\n"
   ]
  },
  {
   "cell_type": "code",
   "execution_count": 17,
   "id": "bdbabc7f-5906-4a57-8fb3-644212a82539",
   "metadata": {},
   "outputs": [
    {
     "data": {
      "text/plain": [
       "Index(['website', 'battery', 'weight', 'laptop_brand', 'monitor_size',\n",
       "       'ram_capacity', 'ram_type', 'SSD_capacity', 'cpu_brand', 'cpu_core_num',\n",
       "       'cpu_thread_num', 'avg_bench', 'gamming', 'desktop', 'workstation',\n",
       "       'gpu_score', 'price'],\n",
       "      dtype='object')"
      ]
     },
     "execution_count": 17,
     "metadata": {},
     "output_type": "execute_result"
    }
   ],
   "source": [
    "df_train.columns"
   ]
  },
  {
   "cell_type": "code",
   "execution_count": 18,
   "id": "6d15ee70-a3a5-4733-a220-883444a774a4",
   "metadata": {},
   "outputs": [
    {
     "data": {
      "text/plain": [
       "Lenovo       146\n",
       "Dell         143\n",
       "Asus         134\n",
       "HP            80\n",
       "MSI           43\n",
       "Acer          35\n",
       "LG            31\n",
       "GIGABYTE      20\n",
       "Apple         15\n",
       "Razer         11\n",
       "Other         11\n",
       "Samsung        9\n",
       "Microsoft      9\n",
       "Huawei         6\n",
       "AVITA          4\n",
       "Xiaomi         2\n",
       "Colorful       1\n",
       "Name: laptop_brand, dtype: int64"
      ]
     },
     "execution_count": 18,
     "metadata": {},
     "output_type": "execute_result"
    }
   ],
   "source": [
    "df_train['laptop_brand'].value_counts()"
   ]
  },
  {
   "cell_type": "code",
   "execution_count": 19,
   "id": "42af8982-e59c-4074-8091-c82c89e13f3f",
   "metadata": {},
   "outputs": [
    {
     "data": {
      "image/png": "[encoded data removed]",
      "text/plain": [
       "<Figure size 864x576 with 1 Axes>"
      ]
     },
     "metadata": {
      "needs_background": "light"
     },
     "output_type": "display_data"
    }
   ],
   "source": [
    "var = 'avg_bench'\n",
    "data = pd.concat([df_train['price'], df_train[var]], axis=1)\n",
    "data.plot.scatter(x=var, y='price');"
   ]
  },
  {
   "cell_type": "markdown",
   "id": "fb6f3149-1626-4d5f-a682-bc56dddccef2",
   "metadata": {},
   "source": [
    "As the gpu score and cpu score might heavily affect the models, we add 2 columns to specify whether if the scores are missing "
   ]
  },
  {
   "cell_type": "code",
   "execution_count": 20,
   "id": "ac682d67-21c6-4110-b286-ab29f8bded2d",
   "metadata": {},
   "outputs": [],
   "source": [
    "def handle_unknown(x):\n",
    "    if np.isnan(x) or x == 0:\n",
    "        return 1\n",
    "    else: \n",
    "        return 0"
   ]
  },
  {
   "cell_type": "code",
   "execution_count": 21,
   "id": "702a0849-7190-4e1e-bf89-a1fd26472fb6",
   "metadata": {},
   "outputs": [],
   "source": [
    "df_train[\"unknown_gpu\"] = df_train[\"gpu_score\"].apply(handle_unknown)\n",
    "df_train[\"unknown_cpu\"] = df_train[\"avg_bench\"].apply(handle_unknown)\n",
    "df_test[\"unknown_gpu\"] = df_test[\"gpu_score\"].apply(handle_unknown)\n",
    "df_test[\"unknown_cpu\"] = df_test[\"avg_bench\"].apply(handle_unknown)"
   ]
  },
  {
   "cell_type": "code",
   "execution_count": 22,
   "id": "de0da4d4-2595-479d-a37b-0c01bbc65234",
   "metadata": {},
   "outputs": [
    {
     "data": {
      "text/plain": [
       "(700, 19)"
      ]
     },
     "execution_count": 22,
     "metadata": {},
     "output_type": "execute_result"
    }
   ],
   "source": [
    "df_train.shape"
   ]
  },
  {
   "cell_type": "code",
   "execution_count": 23,
   "id": "c8b4a47b-a147-48d7-8ee0-8422e948d3d1",
   "metadata": {},
   "outputs": [
    {
     "data": {
      "text/html": [
       "<div>\n",
       "<style scoped>\n",
       "    .dataframe tbody tr th:only-of-type {\n",
       "        vertical-align: middle;\n",
       "    }\n",
       "\n",
       "    .dataframe tbody tr th {\n",
       "        vertical-align: top;\n",
       "    }\n",
       "\n",
       "    .dataframe thead th {\n",
       "        text-align: right;\n",
       "    }\n",
       "</style>\n",
       "<table border=\"1\" class=\"dataframe\">\n",
       "  <thead>\n",
       "    <tr style=\"text-align: right;\">\n",
       "      <th></th>\n",
       "      <th>battery</th>\n",
       "      <th>weight</th>\n",
       "      <th>monitor_size</th>\n",
       "      <th>ram_capacity</th>\n",
       "      <th>SSD_capacity</th>\n",
       "      <th>cpu_core_num</th>\n",
       "      <th>cpu_thread_num</th>\n",
       "      <th>avg_bench</th>\n",
       "      <th>gamming</th>\n",
       "      <th>desktop</th>\n",
       "      <th>workstation</th>\n",
       "      <th>gpu_score</th>\n",
       "      <th>price</th>\n",
       "      <th>unknown_gpu</th>\n",
       "      <th>unknown_cpu</th>\n",
       "    </tr>\n",
       "  </thead>\n",
       "  <tbody>\n",
       "    <tr>\n",
       "      <th>count</th>\n",
       "      <td>568.000000</td>\n",
       "      <td>561.000000</td>\n",
       "      <td>698.000000</td>\n",
       "      <td>698.000000</td>\n",
       "      <td>700.000000</td>\n",
       "      <td>614.000000</td>\n",
       "      <td>605.000000</td>\n",
       "      <td>570.000000</td>\n",
       "      <td>570.000000</td>\n",
       "      <td>570.000000</td>\n",
       "      <td>570.000000</td>\n",
       "      <td>649.000000</td>\n",
       "      <td>7.000000e+02</td>\n",
       "      <td>700.000000</td>\n",
       "      <td>700.000000</td>\n",
       "    </tr>\n",
       "    <tr>\n",
       "      <th>mean</th>\n",
       "      <td>58.384085</td>\n",
       "      <td>1.625820</td>\n",
       "      <td>14.952722</td>\n",
       "      <td>12.618911</td>\n",
       "      <td>536.620000</td>\n",
       "      <td>7.140065</td>\n",
       "      <td>11.928926</td>\n",
       "      <td>73.434912</td>\n",
       "      <td>73.389474</td>\n",
       "      <td>78.085965</td>\n",
       "      <td>67.800000</td>\n",
       "      <td>94.157427</td>\n",
       "      <td>2.818080e+07</td>\n",
       "      <td>0.072857</td>\n",
       "      <td>0.185714</td>\n",
       "    </tr>\n",
       "    <tr>\n",
       "      <th>std</th>\n",
       "      <td>18.632861</td>\n",
       "      <td>0.510255</td>\n",
       "      <td>1.103990</td>\n",
       "      <td>7.409001</td>\n",
       "      <td>373.488505</td>\n",
       "      <td>3.431443</td>\n",
       "      <td>4.500542</td>\n",
       "      <td>15.137443</td>\n",
       "      <td>15.159929</td>\n",
       "      <td>13.412005</td>\n",
       "      <td>19.834783</td>\n",
       "      <td>44.932259</td>\n",
       "      <td>1.788864e+07</td>\n",
       "      <td>0.260088</td>\n",
       "      <td>0.389154</td>\n",
       "    </tr>\n",
       "    <tr>\n",
       "      <th>min</th>\n",
       "      <td>2.000000</td>\n",
       "      <td>0.736000</td>\n",
       "      <td>11.600000</td>\n",
       "      <td>4.000000</td>\n",
       "      <td>0.000000</td>\n",
       "      <td>2.000000</td>\n",
       "      <td>2.000000</td>\n",
       "      <td>17.600000</td>\n",
       "      <td>18.000000</td>\n",
       "      <td>20.000000</td>\n",
       "      <td>12.000000</td>\n",
       "      <td>1.430000</td>\n",
       "      <td>3.590000e+06</td>\n",
       "      <td>0.000000</td>\n",
       "      <td>0.000000</td>\n",
       "    </tr>\n",
       "    <tr>\n",
       "      <th>25%</th>\n",
       "      <td>45.000000</td>\n",
       "      <td>1.200000</td>\n",
       "      <td>14.000000</td>\n",
       "      <td>8.000000</td>\n",
       "      <td>256.000000</td>\n",
       "      <td>4.000000</td>\n",
       "      <td>8.000000</td>\n",
       "      <td>63.200000</td>\n",
       "      <td>63.000000</td>\n",
       "      <td>71.000000</td>\n",
       "      <td>52.000000</td>\n",
       "      <td>58.500000</td>\n",
       "      <td>1.699000e+07</td>\n",
       "      <td>0.000000</td>\n",
       "      <td>0.000000</td>\n",
       "    </tr>\n",
       "    <tr>\n",
       "      <th>50%</th>\n",
       "      <td>56.000000</td>\n",
       "      <td>1.600000</td>\n",
       "      <td>15.600000</td>\n",
       "      <td>8.000000</td>\n",
       "      <td>512.000000</td>\n",
       "      <td>6.000000</td>\n",
       "      <td>12.000000</td>\n",
       "      <td>72.400000</td>\n",
       "      <td>72.000000</td>\n",
       "      <td>78.000000</td>\n",
       "      <td>67.000000</td>\n",
       "      <td>112.000000</td>\n",
       "      <td>2.299000e+07</td>\n",
       "      <td>0.000000</td>\n",
       "      <td>0.000000</td>\n",
       "    </tr>\n",
       "    <tr>\n",
       "      <th>75%</th>\n",
       "      <td>71.000000</td>\n",
       "      <td>2.000000</td>\n",
       "      <td>15.600000</td>\n",
       "      <td>16.000000</td>\n",
       "      <td>512.000000</td>\n",
       "      <td>8.000000</td>\n",
       "      <td>16.000000</td>\n",
       "      <td>82.400000</td>\n",
       "      <td>82.000000</td>\n",
       "      <td>87.000000</td>\n",
       "      <td>77.000000</td>\n",
       "      <td>139.000000</td>\n",
       "      <td>3.299000e+07</td>\n",
       "      <td>0.000000</td>\n",
       "      <td>0.000000</td>\n",
       "    </tr>\n",
       "    <tr>\n",
       "      <th>max</th>\n",
       "      <td>100.000000</td>\n",
       "      <td>4.100000</td>\n",
       "      <td>17.300000</td>\n",
       "      <td>64.000000</td>\n",
       "      <td>5122.000000</td>\n",
       "      <td>16.000000</td>\n",
       "      <td>24.000000</td>\n",
       "      <td>114.000000</td>\n",
       "      <td>114.000000</td>\n",
       "      <td>114.000000</td>\n",
       "      <td>126.000000</td>\n",
       "      <td>154.000000</td>\n",
       "      <td>1.399900e+08</td>\n",
       "      <td>1.000000</td>\n",
       "      <td>1.000000</td>\n",
       "    </tr>\n",
       "  </tbody>\n",
       "</table>\n",
       "</div>"
      ],
      "text/plain": [
       "          battery      weight  monitor_size  ram_capacity  SSD_capacity  \\\n",
       "count  568.000000  561.000000    698.000000    698.000000    700.000000   \n",
       "mean    58.384085    1.625820     14.952722     12.618911    536.620000   \n",
       "std     18.632861    0.510255      1.103990      7.409001    373.488505   \n",
       "min      2.000000    0.736000     11.600000      4.000000      0.000000   \n",
       "25%     45.000000    1.200000     14.000000      8.000000    256.000000   \n",
       "50%     56.000000    1.600000     15.600000      8.000000    512.000000   \n",
       "75%     71.000000    2.000000     15.600000     16.000000    512.000000   \n",
       "max    100.000000    4.100000     17.300000     64.000000   5122.000000   \n",
       "\n",
       "       cpu_core_num  cpu_thread_num   avg_bench     gamming     desktop  \\\n",
       "count    614.000000      605.000000  570.000000  570.000000  570.000000   \n",
       "mean       7.140065       11.928926   73.434912   73.389474   78.085965   \n",
       "std        3.431443        4.500542   15.137443   15.159929   13.412005   \n",
       "min        2.000000        2.000000   17.600000   18.000000   20.000000   \n",
       "25%        4.000000        8.000000   63.200000   63.000000   71.000000   \n",
       "50%        6.000000       12.000000   72.400000   72.000000   78.000000   \n",
       "75%        8.000000       16.000000   82.400000   82.000000   87.000000   \n",
       "max       16.000000       24.000000  114.000000  114.000000  114.000000   \n",
       "\n",
       "       workstation   gpu_score         price  unknown_gpu  unknown_cpu  \n",
       "count   570.000000  649.000000  7.000000e+02   700.000000   700.000000  \n",
       "mean     67.800000   94.157427  2.818080e+07     0.072857     0.185714  \n",
       "std      19.834783   44.932259  1.788864e+07     0.260088     0.389154  \n",
       "min      12.000000    1.430000  3.590000e+06     0.000000     0.000000  \n",
       "25%      52.000000   58.500000  1.699000e+07     0.000000     0.000000  \n",
       "50%      67.000000  112.000000  2.299000e+07     0.000000     0.000000  \n",
       "75%      77.000000  139.000000  3.299000e+07     0.000000     0.000000  \n",
       "max     126.000000  154.000000  1.399900e+08     1.000000     1.000000  "
      ]
     },
     "execution_count": 23,
     "metadata": {},
     "output_type": "execute_result"
    }
   ],
   "source": [
    "df_train.describe()"
   ]
  },
  {
   "cell_type": "code",
   "execution_count": 24,
   "id": "df4f0f48-6eb5-49cf-8bac-69b4bb565781",
   "metadata": {},
   "outputs": [
    {
     "data": {
      "text/plain": [
       "website             0\n",
       "battery           132\n",
       "weight            139\n",
       "laptop_brand        0\n",
       "monitor_size        2\n",
       "ram_capacity        2\n",
       "ram_type            0\n",
       "SSD_capacity        0\n",
       "cpu_brand           0\n",
       "cpu_core_num       86\n",
       "cpu_thread_num     95\n",
       "avg_bench         130\n",
       "gamming           130\n",
       "desktop           130\n",
       "workstation       130\n",
       "gpu_score          51\n",
       "price               0\n",
       "unknown_gpu         0\n",
       "unknown_cpu         0\n",
       "dtype: int64"
      ]
     },
     "execution_count": 24,
     "metadata": {},
     "output_type": "execute_result"
    }
   ],
   "source": [
    "df_train.isnull().sum()"
   ]
  },
  {
   "cell_type": "markdown",
   "id": "c448d330-1d25-4d29-8d66-2acfd13eb053",
   "metadata": {},
   "source": [
    "For the remaining missing numerical values, we use KNN to impute those unfilled values"
   ]
  },
  {
   "cell_type": "code",
   "execution_count": 25,
   "id": "0f58ad31-d1f2-45cd-9689-353f0b16dff4",
   "metadata": {},
   "outputs": [],
   "source": [
    "imptr = KNNImputer()"
   ]
  },
  {
   "cell_type": "code",
   "execution_count": 26,
   "id": "07a4d69b-ee6a-42e0-b23e-d929b861f4cc",
   "metadata": {},
   "outputs": [],
   "source": [
    "numerical_cols = [\"battery\", \n",
    "          \"weight\", \"monitor_size\",\n",
    "          \"ram_capacity\", \n",
    "          \"SSD_capacity\", \n",
    "          \"cpu_core_num\",\n",
    "          \"cpu_thread_num\",\n",
    "          \"avg_bench\", \"desktop\", \"workstation\" , \"gamming\",\n",
    "          \"gpu_score\",\n",
    "          \"unknown_cpu\",\n",
    "          \"unknown_gpu\",\n",
    "          \"price\"]\n",
    "df1_train = df_train[numerical_cols]\n",
    "df1_test = df_test[numerical_cols]"
   ]
  },
  {
   "cell_type": "code",
   "execution_count": 27,
   "id": "21e7d1c8-1740-4f58-9c72-c531aa0cfb57",
   "metadata": {},
   "outputs": [
    {
     "data": {
      "text/html": [
       "<div>\n",
       "<style scoped>\n",
       "    .dataframe tbody tr th:only-of-type {\n",
       "        vertical-align: middle;\n",
       "    }\n",
       "\n",
       "    .dataframe tbody tr th {\n",
       "        vertical-align: top;\n",
       "    }\n",
       "\n",
       "    .dataframe thead th {\n",
       "        text-align: right;\n",
       "    }\n",
       "</style>\n",
       "<table border=\"1\" class=\"dataframe\">\n",
       "  <thead>\n",
       "    <tr style=\"text-align: right;\">\n",
       "      <th></th>\n",
       "      <th>battery</th>\n",
       "      <th>weight</th>\n",
       "      <th>monitor_size</th>\n",
       "      <th>ram_capacity</th>\n",
       "      <th>SSD_capacity</th>\n",
       "      <th>cpu_core_num</th>\n",
       "      <th>cpu_thread_num</th>\n",
       "      <th>avg_bench</th>\n",
       "      <th>desktop</th>\n",
       "      <th>workstation</th>\n",
       "      <th>gamming</th>\n",
       "      <th>gpu_score</th>\n",
       "      <th>unknown_cpu</th>\n",
       "      <th>unknown_gpu</th>\n",
       "      <th>price</th>\n",
       "    </tr>\n",
       "  </thead>\n",
       "  <tbody>\n",
       "    <tr>\n",
       "      <th>0</th>\n",
       "      <td>62.0</td>\n",
       "      <td>1.430</td>\n",
       "      <td>14.0</td>\n",
       "      <td>16.0</td>\n",
       "      <td>512.0</td>\n",
       "      <td>6.0</td>\n",
       "      <td>12.0</td>\n",
       "      <td>76.80</td>\n",
       "      <td>81.0</td>\n",
       "      <td>72.0</td>\n",
       "      <td>77.0</td>\n",
       "      <td>121.00</td>\n",
       "      <td>0.0</td>\n",
       "      <td>0.0</td>\n",
       "      <td>23490000.0</td>\n",
       "    </tr>\n",
       "    <tr>\n",
       "      <th>1</th>\n",
       "      <td>50.0</td>\n",
       "      <td>1.000</td>\n",
       "      <td>14.0</td>\n",
       "      <td>8.0</td>\n",
       "      <td>512.0</td>\n",
       "      <td>12.0</td>\n",
       "      <td>16.0</td>\n",
       "      <td>94.80</td>\n",
       "      <td>97.0</td>\n",
       "      <td>94.0</td>\n",
       "      <td>95.0</td>\n",
       "      <td>139.00</td>\n",
       "      <td>0.0</td>\n",
       "      <td>0.0</td>\n",
       "      <td>19490000.0</td>\n",
       "    </tr>\n",
       "    <tr>\n",
       "      <th>2</th>\n",
       "      <td>80.0</td>\n",
       "      <td>2.500</td>\n",
       "      <td>16.0</td>\n",
       "      <td>32.0</td>\n",
       "      <td>1024.0</td>\n",
       "      <td>8.0</td>\n",
       "      <td>16.0</td>\n",
       "      <td>78.20</td>\n",
       "      <td>81.0</td>\n",
       "      <td>76.0</td>\n",
       "      <td>78.0</td>\n",
       "      <td>121.00</td>\n",
       "      <td>0.0</td>\n",
       "      <td>0.0</td>\n",
       "      <td>79990000.0</td>\n",
       "    </tr>\n",
       "    <tr>\n",
       "      <th>3</th>\n",
       "      <td>85.4</td>\n",
       "      <td>1.608</td>\n",
       "      <td>17.0</td>\n",
       "      <td>16.0</td>\n",
       "      <td>1024.0</td>\n",
       "      <td>12.0</td>\n",
       "      <td>20.0</td>\n",
       "      <td>114.00</td>\n",
       "      <td>114.0</td>\n",
       "      <td>126.0</td>\n",
       "      <td>114.0</td>\n",
       "      <td>139.00</td>\n",
       "      <td>0.0</td>\n",
       "      <td>0.0</td>\n",
       "      <td>45990000.0</td>\n",
       "    </tr>\n",
       "    <tr>\n",
       "      <th>4</th>\n",
       "      <td>56.5</td>\n",
       "      <td>1.000</td>\n",
       "      <td>14.0</td>\n",
       "      <td>16.0</td>\n",
       "      <td>512.0</td>\n",
       "      <td>9.6</td>\n",
       "      <td>14.4</td>\n",
       "      <td>74.52</td>\n",
       "      <td>79.4</td>\n",
       "      <td>70.2</td>\n",
       "      <td>74.4</td>\n",
       "      <td>112.94</td>\n",
       "      <td>1.0</td>\n",
       "      <td>1.0</td>\n",
       "      <td>22990000.0</td>\n",
       "    </tr>\n",
       "    <tr>\n",
       "      <th>...</th>\n",
       "      <td>...</td>\n",
       "      <td>...</td>\n",
       "      <td>...</td>\n",
       "      <td>...</td>\n",
       "      <td>...</td>\n",
       "      <td>...</td>\n",
       "      <td>...</td>\n",
       "      <td>...</td>\n",
       "      <td>...</td>\n",
       "      <td>...</td>\n",
       "      <td>...</td>\n",
       "      <td>...</td>\n",
       "      <td>...</td>\n",
       "      <td>...</td>\n",
       "      <td>...</td>\n",
       "    </tr>\n",
       "    <tr>\n",
       "      <th>695</th>\n",
       "      <td>60.0</td>\n",
       "      <td>1.360</td>\n",
       "      <td>14.0</td>\n",
       "      <td>16.0</td>\n",
       "      <td>256.0</td>\n",
       "      <td>4.0</td>\n",
       "      <td>8.0</td>\n",
       "      <td>59.60</td>\n",
       "      <td>66.0</td>\n",
       "      <td>47.0</td>\n",
       "      <td>60.0</td>\n",
       "      <td>9.64</td>\n",
       "      <td>0.0</td>\n",
       "      <td>0.0</td>\n",
       "      <td>15990000.0</td>\n",
       "    </tr>\n",
       "    <tr>\n",
       "      <th>696</th>\n",
       "      <td>60.0</td>\n",
       "      <td>1.710</td>\n",
       "      <td>16.0</td>\n",
       "      <td>16.0</td>\n",
       "      <td>512.0</td>\n",
       "      <td>8.0</td>\n",
       "      <td>12.0</td>\n",
       "      <td>82.40</td>\n",
       "      <td>87.0</td>\n",
       "      <td>77.0</td>\n",
       "      <td>82.0</td>\n",
       "      <td>112.00</td>\n",
       "      <td>0.0</td>\n",
       "      <td>0.0</td>\n",
       "      <td>22990000.0</td>\n",
       "    </tr>\n",
       "    <tr>\n",
       "      <th>697</th>\n",
       "      <td>84.8</td>\n",
       "      <td>2.128</td>\n",
       "      <td>15.6</td>\n",
       "      <td>16.0</td>\n",
       "      <td>256.0</td>\n",
       "      <td>9.2</td>\n",
       "      <td>16.8</td>\n",
       "      <td>88.76</td>\n",
       "      <td>91.2</td>\n",
       "      <td>87.8</td>\n",
       "      <td>88.8</td>\n",
       "      <td>70.00</td>\n",
       "      <td>1.0</td>\n",
       "      <td>0.0</td>\n",
       "      <td>66990000.0</td>\n",
       "    </tr>\n",
       "    <tr>\n",
       "      <th>698</th>\n",
       "      <td>90.0</td>\n",
       "      <td>1.285</td>\n",
       "      <td>16.0</td>\n",
       "      <td>16.0</td>\n",
       "      <td>512.0</td>\n",
       "      <td>12.0</td>\n",
       "      <td>16.0</td>\n",
       "      <td>72.40</td>\n",
       "      <td>78.0</td>\n",
       "      <td>70.0</td>\n",
       "      <td>72.0</td>\n",
       "      <td>139.00</td>\n",
       "      <td>0.0</td>\n",
       "      <td>0.0</td>\n",
       "      <td>35990000.0</td>\n",
       "    </tr>\n",
       "    <tr>\n",
       "      <th>699</th>\n",
       "      <td>42.0</td>\n",
       "      <td>1.100</td>\n",
       "      <td>13.0</td>\n",
       "      <td>16.0</td>\n",
       "      <td>256.0</td>\n",
       "      <td>4.0</td>\n",
       "      <td>8.0</td>\n",
       "      <td>40.30</td>\n",
       "      <td>41.0</td>\n",
       "      <td>27.0</td>\n",
       "      <td>40.0</td>\n",
       "      <td>9.64</td>\n",
       "      <td>0.0</td>\n",
       "      <td>0.0</td>\n",
       "      <td>15990000.0</td>\n",
       "    </tr>\n",
       "  </tbody>\n",
       "</table>\n",
       "<p>700 rows × 15 columns</p>\n",
       "</div>"
      ],
      "text/plain": [
       "     battery  weight  monitor_size  ram_capacity  SSD_capacity  cpu_core_num  \\\n",
       "0       62.0   1.430          14.0          16.0         512.0           6.0   \n",
       "1       50.0   1.000          14.0           8.0         512.0          12.0   \n",
       "2       80.0   2.500          16.0          32.0        1024.0           8.0   \n",
       "3       85.4   1.608          17.0          16.0        1024.0          12.0   \n",
       "4       56.5   1.000          14.0          16.0         512.0           9.6   \n",
       "..       ...     ...           ...           ...           ...           ...   \n",
       "695     60.0   1.360          14.0          16.0         256.0           4.0   \n",
       "696     60.0   1.710          16.0          16.0         512.0           8.0   \n",
       "697     84.8   2.128          15.6          16.0         256.0           9.2   \n",
       "698     90.0   1.285          16.0          16.0         512.0          12.0   \n",
       "699     42.0   1.100          13.0          16.0         256.0           4.0   \n",
       "\n",
       "     cpu_thread_num  avg_bench  desktop  workstation  gamming  gpu_score  \\\n",
       "0              12.0      76.80     81.0         72.0     77.0     121.00   \n",
       "1              16.0      94.80     97.0         94.0     95.0     139.00   \n",
       "2              16.0      78.20     81.0         76.0     78.0     121.00   \n",
       "3              20.0     114.00    114.0        126.0    114.0     139.00   \n",
       "4              14.4      74.52     79.4         70.2     74.4     112.94   \n",
       "..              ...        ...      ...          ...      ...        ...   \n",
       "695             8.0      59.60     66.0         47.0     60.0       9.64   \n",
       "696            12.0      82.40     87.0         77.0     82.0     112.00   \n",
       "697            16.8      88.76     91.2         87.8     88.8      70.00   \n",
       "698            16.0      72.40     78.0         70.0     72.0     139.00   \n",
       "699             8.0      40.30     41.0         27.0     40.0       9.64   \n",
       "\n",
       "     unknown_cpu  unknown_gpu       price  \n",
       "0            0.0          0.0  23490000.0  \n",
       "1            0.0          0.0  19490000.0  \n",
       "2            0.0          0.0  79990000.0  \n",
       "3            0.0          0.0  45990000.0  \n",
       "4            1.0          1.0  22990000.0  \n",
       "..           ...          ...         ...  \n",
       "695          0.0          0.0  15990000.0  \n",
       "696          0.0          0.0  22990000.0  \n",
       "697          1.0          0.0  66990000.0  \n",
       "698          0.0          0.0  35990000.0  \n",
       "699          0.0          0.0  15990000.0  \n",
       "\n",
       "[700 rows x 15 columns]"
      ]
     },
     "execution_count": 27,
     "metadata": {},
     "output_type": "execute_result"
    }
   ],
   "source": [
    "df2_train = pd.DataFrame(imptr.fit_transform(df1_train), columns = df1_train.columns)\n",
    "df2_test = pd.DataFrame(imptr.transform(df1_test), columns = df1_test.columns)\n",
    "df2_train"
   ]
  },
  {
   "cell_type": "code",
   "execution_count": 28,
   "id": "209a0142-fbde-407f-b185-2115b9d55323",
   "metadata": {},
   "outputs": [],
   "source": [
    "df_train[numerical_cols] = df2_train.values\n",
    "df_test[numerical_cols] = df2_test.values"
   ]
  },
  {
   "cell_type": "markdown",
   "id": "976d9a1c-affc-42d8-ada9-37bbd42e19e1",
   "metadata": {},
   "source": [
    "#### Transform categorical features into numerical ones"
   ]
  },
  {
   "cell_type": "markdown",
   "id": "6c1da5e4-c4b9-4c5c-985e-c55473c433fa",
   "metadata": {},
   "source": [
    "For the categorical features, as the number of features and the number of categories in each feature is not too large, we use one-hot encoding"
   ]
  },
  {
   "cell_type": "code",
   "execution_count": 29,
   "id": "ee1a6e91-efcf-4931-a8f7-e16cd510a464",
   "metadata": {},
   "outputs": [],
   "source": [
    "# features_to_encode = ['website', 'cpu_brand','ram_type']\n",
    "features_to_encode = ['website', 'cpu_brand','ram_type', 'laptop_brand']"
   ]
  },
  {
   "cell_type": "code",
   "execution_count": 30,
   "id": "025e8f4b-9f20-4533-b6bf-f23ec8f4783b",
   "metadata": {},
   "outputs": [],
   "source": [
    "from sklearn.preprocessing import OneHotEncoder\n",
    "from category_encoders import TargetEncoder"
   ]
  },
  {
   "cell_type": "code",
   "execution_count": 31,
   "id": "daf1d416-46b4-4f40-9bee-c99f776373d1",
   "metadata": {},
   "outputs": [
    {
     "name": "stderr",
     "output_type": "stream",
     "text": [
      "c:\\users\\admin\\appdata\\local\\programs\\python\\python38\\lib\\site-packages\\sklearn\\preprocessing\\_encoders.py:808: FutureWarning: `sparse` was renamed to `sparse_output` in version 1.2 and will be removed in 1.4. `sparse_output` is ignored unless you leave `sparse` to its default value.\n",
      "  warnings.warn(\n"
     ]
    }
   ],
   "source": [
    "ohe = OneHotEncoder(sparse=False, handle_unknown='ignore')\n",
    "train_enc = ohe.fit_transform(df_train[features_to_encode])"
   ]
  },
  {
   "cell_type": "code",
   "execution_count": 32,
   "id": "c433496f-65fb-4d61-a43e-2e28ce0cdfac",
   "metadata": {},
   "outputs": [],
   "source": [
    "df_train = pd.concat([df_train,pd.DataFrame(train_enc, columns=ohe.get_feature_names_out())], axis = 1)"
   ]
  },
  {
   "cell_type": "code",
   "execution_count": 33,
   "id": "f28c6d2e-5feb-4114-9e5c-4c7a39883fc2",
   "metadata": {},
   "outputs": [],
   "source": [
    "test_enc = ohe.transform(df_test[features_to_encode])\n",
    "#Converting back to a dataframe\n",
    "df_test = pd.concat([df_test,pd.DataFrame(test_enc,columns=ohe.get_feature_names_out())], axis =1)"
   ]
  },
  {
   "cell_type": "code",
   "execution_count": 34,
   "id": "006ab6a8-182c-40ba-bea9-55d45cfc3d2e",
   "metadata": {},
   "outputs": [],
   "source": [
    "df_train = df_train.drop(features_to_encode, axis = 1)\n",
    "df_test = df_test.drop(features_to_encode, axis = 1)\n",
    "df_train = df_train.drop(\"website_laptop88\", axis = 1)\n",
    "df_test = df_test.drop(\"website_laptop88\", axis = 1)"
   ]
  },
  {
   "cell_type": "code",
   "execution_count": 35,
   "id": "f4e42c51-df8d-481e-8641-f649fd4ffe49",
   "metadata": {},
   "outputs": [],
   "source": [
    "X_train = df_train.drop(\"price\", axis = 1)\n",
    "y_train = df_train[\"price\"]\n",
    "X_test = df_test.drop(\"price\", axis = 1)\n",
    "y_test = df_test[\"price\"]"
   ]
  },
  {
   "cell_type": "code",
   "execution_count": 36,
   "id": "04e315f4-8084-4a69-8df8-4724edba8795",
   "metadata": {},
   "outputs": [
    {
     "data": {
      "text/html": [
       "<div>\n",
       "<style scoped>\n",
       "    .dataframe tbody tr th:only-of-type {\n",
       "        vertical-align: middle;\n",
       "    }\n",
       "\n",
       "    .dataframe tbody tr th {\n",
       "        vertical-align: top;\n",
       "    }\n",
       "\n",
       "    .dataframe thead th {\n",
       "        text-align: right;\n",
       "    }\n",
       "</style>\n",
       "<table border=\"1\" class=\"dataframe\">\n",
       "  <thead>\n",
       "    <tr style=\"text-align: right;\">\n",
       "      <th></th>\n",
       "      <th>battery</th>\n",
       "      <th>weight</th>\n",
       "      <th>monitor_size</th>\n",
       "      <th>ram_capacity</th>\n",
       "      <th>SSD_capacity</th>\n",
       "      <th>cpu_core_num</th>\n",
       "      <th>cpu_thread_num</th>\n",
       "      <th>avg_bench</th>\n",
       "      <th>gamming</th>\n",
       "      <th>desktop</th>\n",
       "      <th>...</th>\n",
       "      <th>laptop_brand_HP</th>\n",
       "      <th>laptop_brand_Huawei</th>\n",
       "      <th>laptop_brand_LG</th>\n",
       "      <th>laptop_brand_Lenovo</th>\n",
       "      <th>laptop_brand_MSI</th>\n",
       "      <th>laptop_brand_Microsoft</th>\n",
       "      <th>laptop_brand_Other</th>\n",
       "      <th>laptop_brand_Razer</th>\n",
       "      <th>laptop_brand_Samsung</th>\n",
       "      <th>laptop_brand_Xiaomi</th>\n",
       "    </tr>\n",
       "  </thead>\n",
       "  <tbody>\n",
       "    <tr>\n",
       "      <th>0</th>\n",
       "      <td>65.0</td>\n",
       "      <td>2.100</td>\n",
       "      <td>15.60</td>\n",
       "      <td>16.0</td>\n",
       "      <td>256.0</td>\n",
       "      <td>6.0</td>\n",
       "      <td>12.0</td>\n",
       "      <td>70.10</td>\n",
       "      <td>70.0</td>\n",
       "      <td>74.0</td>\n",
       "      <td>...</td>\n",
       "      <td>0.0</td>\n",
       "      <td>0.0</td>\n",
       "      <td>0.0</td>\n",
       "      <td>0.0</td>\n",
       "      <td>0.0</td>\n",
       "      <td>0.0</td>\n",
       "      <td>0.0</td>\n",
       "      <td>1.0</td>\n",
       "      <td>0.0</td>\n",
       "      <td>0.0</td>\n",
       "    </tr>\n",
       "    <tr>\n",
       "      <th>1</th>\n",
       "      <td>64.8</td>\n",
       "      <td>1.746</td>\n",
       "      <td>15.14</td>\n",
       "      <td>4.0</td>\n",
       "      <td>512.0</td>\n",
       "      <td>4.0</td>\n",
       "      <td>8.0</td>\n",
       "      <td>66.00</td>\n",
       "      <td>66.0</td>\n",
       "      <td>74.0</td>\n",
       "      <td>...</td>\n",
       "      <td>0.0</td>\n",
       "      <td>0.0</td>\n",
       "      <td>0.0</td>\n",
       "      <td>0.0</td>\n",
       "      <td>0.0</td>\n",
       "      <td>1.0</td>\n",
       "      <td>0.0</td>\n",
       "      <td>0.0</td>\n",
       "      <td>0.0</td>\n",
       "      <td>0.0</td>\n",
       "    </tr>\n",
       "    <tr>\n",
       "      <th>2</th>\n",
       "      <td>80.0</td>\n",
       "      <td>2.000</td>\n",
       "      <td>16.00</td>\n",
       "      <td>16.0</td>\n",
       "      <td>512.0</td>\n",
       "      <td>14.0</td>\n",
       "      <td>20.0</td>\n",
       "      <td>98.10</td>\n",
       "      <td>98.0</td>\n",
       "      <td>100.0</td>\n",
       "      <td>...</td>\n",
       "      <td>0.0</td>\n",
       "      <td>0.0</td>\n",
       "      <td>0.0</td>\n",
       "      <td>1.0</td>\n",
       "      <td>0.0</td>\n",
       "      <td>0.0</td>\n",
       "      <td>0.0</td>\n",
       "      <td>0.0</td>\n",
       "      <td>0.0</td>\n",
       "      <td>0.0</td>\n",
       "    </tr>\n",
       "    <tr>\n",
       "      <th>3</th>\n",
       "      <td>57.5</td>\n",
       "      <td>2.200</td>\n",
       "      <td>15.60</td>\n",
       "      <td>8.0</td>\n",
       "      <td>512.0</td>\n",
       "      <td>6.0</td>\n",
       "      <td>12.0</td>\n",
       "      <td>74.50</td>\n",
       "      <td>74.0</td>\n",
       "      <td>78.0</td>\n",
       "      <td>...</td>\n",
       "      <td>0.0</td>\n",
       "      <td>0.0</td>\n",
       "      <td>0.0</td>\n",
       "      <td>0.0</td>\n",
       "      <td>0.0</td>\n",
       "      <td>0.0</td>\n",
       "      <td>0.0</td>\n",
       "      <td>0.0</td>\n",
       "      <td>0.0</td>\n",
       "      <td>0.0</td>\n",
       "    </tr>\n",
       "    <tr>\n",
       "      <th>4</th>\n",
       "      <td>42.0</td>\n",
       "      <td>1.664</td>\n",
       "      <td>15.60</td>\n",
       "      <td>8.0</td>\n",
       "      <td>512.0</td>\n",
       "      <td>8.0</td>\n",
       "      <td>16.0</td>\n",
       "      <td>72.30</td>\n",
       "      <td>72.0</td>\n",
       "      <td>74.0</td>\n",
       "      <td>...</td>\n",
       "      <td>0.0</td>\n",
       "      <td>0.0</td>\n",
       "      <td>0.0</td>\n",
       "      <td>0.0</td>\n",
       "      <td>0.0</td>\n",
       "      <td>0.0</td>\n",
       "      <td>0.0</td>\n",
       "      <td>0.0</td>\n",
       "      <td>0.0</td>\n",
       "      <td>0.0</td>\n",
       "    </tr>\n",
       "    <tr>\n",
       "      <th>...</th>\n",
       "      <td>...</td>\n",
       "      <td>...</td>\n",
       "      <td>...</td>\n",
       "      <td>...</td>\n",
       "      <td>...</td>\n",
       "      <td>...</td>\n",
       "      <td>...</td>\n",
       "      <td>...</td>\n",
       "      <td>...</td>\n",
       "      <td>...</td>\n",
       "      <td>...</td>\n",
       "      <td>...</td>\n",
       "      <td>...</td>\n",
       "      <td>...</td>\n",
       "      <td>...</td>\n",
       "      <td>...</td>\n",
       "      <td>...</td>\n",
       "      <td>...</td>\n",
       "      <td>...</td>\n",
       "      <td>...</td>\n",
       "      <td>...</td>\n",
       "    </tr>\n",
       "    <tr>\n",
       "      <th>171</th>\n",
       "      <td>70.0</td>\n",
       "      <td>2.000</td>\n",
       "      <td>16.00</td>\n",
       "      <td>8.0</td>\n",
       "      <td>512.0</td>\n",
       "      <td>8.0</td>\n",
       "      <td>12.8</td>\n",
       "      <td>71.98</td>\n",
       "      <td>71.8</td>\n",
       "      <td>76.6</td>\n",
       "      <td>...</td>\n",
       "      <td>1.0</td>\n",
       "      <td>0.0</td>\n",
       "      <td>0.0</td>\n",
       "      <td>0.0</td>\n",
       "      <td>0.0</td>\n",
       "      <td>0.0</td>\n",
       "      <td>0.0</td>\n",
       "      <td>0.0</td>\n",
       "      <td>0.0</td>\n",
       "      <td>0.0</td>\n",
       "    </tr>\n",
       "    <tr>\n",
       "      <th>172</th>\n",
       "      <td>45.0</td>\n",
       "      <td>2.250</td>\n",
       "      <td>15.60</td>\n",
       "      <td>8.0</td>\n",
       "      <td>256.0</td>\n",
       "      <td>6.0</td>\n",
       "      <td>12.0</td>\n",
       "      <td>73.00</td>\n",
       "      <td>73.0</td>\n",
       "      <td>76.0</td>\n",
       "      <td>...</td>\n",
       "      <td>0.0</td>\n",
       "      <td>0.0</td>\n",
       "      <td>0.0</td>\n",
       "      <td>1.0</td>\n",
       "      <td>0.0</td>\n",
       "      <td>0.0</td>\n",
       "      <td>0.0</td>\n",
       "      <td>0.0</td>\n",
       "      <td>0.0</td>\n",
       "      <td>0.0</td>\n",
       "    </tr>\n",
       "    <tr>\n",
       "      <th>173</th>\n",
       "      <td>65.0</td>\n",
       "      <td>2.380</td>\n",
       "      <td>15.60</td>\n",
       "      <td>16.0</td>\n",
       "      <td>512.0</td>\n",
       "      <td>8.0</td>\n",
       "      <td>16.0</td>\n",
       "      <td>87.90</td>\n",
       "      <td>88.0</td>\n",
       "      <td>90.0</td>\n",
       "      <td>...</td>\n",
       "      <td>0.0</td>\n",
       "      <td>0.0</td>\n",
       "      <td>0.0</td>\n",
       "      <td>0.0</td>\n",
       "      <td>1.0</td>\n",
       "      <td>0.0</td>\n",
       "      <td>0.0</td>\n",
       "      <td>0.0</td>\n",
       "      <td>0.0</td>\n",
       "      <td>0.0</td>\n",
       "    </tr>\n",
       "    <tr>\n",
       "      <th>174</th>\n",
       "      <td>54.0</td>\n",
       "      <td>1.950</td>\n",
       "      <td>16.00</td>\n",
       "      <td>16.0</td>\n",
       "      <td>512.0</td>\n",
       "      <td>8.8</td>\n",
       "      <td>13.2</td>\n",
       "      <td>73.80</td>\n",
       "      <td>74.0</td>\n",
       "      <td>80.0</td>\n",
       "      <td>...</td>\n",
       "      <td>0.0</td>\n",
       "      <td>0.0</td>\n",
       "      <td>0.0</td>\n",
       "      <td>0.0</td>\n",
       "      <td>0.0</td>\n",
       "      <td>0.0</td>\n",
       "      <td>0.0</td>\n",
       "      <td>0.0</td>\n",
       "      <td>0.0</td>\n",
       "      <td>0.0</td>\n",
       "    </tr>\n",
       "    <tr>\n",
       "      <th>175</th>\n",
       "      <td>42.0</td>\n",
       "      <td>1.180</td>\n",
       "      <td>15.60</td>\n",
       "      <td>8.0</td>\n",
       "      <td>256.0</td>\n",
       "      <td>4.0</td>\n",
       "      <td>4.0</td>\n",
       "      <td>68.00</td>\n",
       "      <td>68.0</td>\n",
       "      <td>70.0</td>\n",
       "      <td>...</td>\n",
       "      <td>0.0</td>\n",
       "      <td>0.0</td>\n",
       "      <td>0.0</td>\n",
       "      <td>0.0</td>\n",
       "      <td>0.0</td>\n",
       "      <td>0.0</td>\n",
       "      <td>0.0</td>\n",
       "      <td>0.0</td>\n",
       "      <td>0.0</td>\n",
       "      <td>0.0</td>\n",
       "    </tr>\n",
       "  </tbody>\n",
       "</table>\n",
       "<p>176 rows × 41 columns</p>\n",
       "</div>"
      ],
      "text/plain": [
       "     battery  weight  monitor_size  ram_capacity  SSD_capacity  cpu_core_num  \\\n",
       "0       65.0   2.100         15.60          16.0         256.0           6.0   \n",
       "1       64.8   1.746         15.14           4.0         512.0           4.0   \n",
       "2       80.0   2.000         16.00          16.0         512.0          14.0   \n",
       "3       57.5   2.200         15.60           8.0         512.0           6.0   \n",
       "4       42.0   1.664         15.60           8.0         512.0           8.0   \n",
       "..       ...     ...           ...           ...           ...           ...   \n",
       "171     70.0   2.000         16.00           8.0         512.0           8.0   \n",
       "172     45.0   2.250         15.60           8.0         256.0           6.0   \n",
       "173     65.0   2.380         15.60          16.0         512.0           8.0   \n",
       "174     54.0   1.950         16.00          16.0         512.0           8.8   \n",
       "175     42.0   1.180         15.60           8.0         256.0           4.0   \n",
       "\n",
       "     cpu_thread_num  avg_bench  gamming  desktop  ...  laptop_brand_HP  \\\n",
       "0              12.0      70.10     70.0     74.0  ...              0.0   \n",
       "1               8.0      66.00     66.0     74.0  ...              0.0   \n",
       "2              20.0      98.10     98.0    100.0  ...              0.0   \n",
       "3              12.0      74.50     74.0     78.0  ...              0.0   \n",
       "4              16.0      72.30     72.0     74.0  ...              0.0   \n",
       "..              ...        ...      ...      ...  ...              ...   \n",
       "171            12.8      71.98     71.8     76.6  ...              1.0   \n",
       "172            12.0      73.00     73.0     76.0  ...              0.0   \n",
       "173            16.0      87.90     88.0     90.0  ...              0.0   \n",
       "174            13.2      73.80     74.0     80.0  ...              0.0   \n",
       "175             4.0      68.00     68.0     70.0  ...              0.0   \n",
       "\n",
       "     laptop_brand_Huawei  laptop_brand_LG  laptop_brand_Lenovo  \\\n",
       "0                    0.0              0.0                  0.0   \n",
       "1                    0.0              0.0                  0.0   \n",
       "2                    0.0              0.0                  1.0   \n",
       "3                    0.0              0.0                  0.0   \n",
       "4                    0.0              0.0                  0.0   \n",
       "..                   ...              ...                  ...   \n",
       "171                  0.0              0.0                  0.0   \n",
       "172                  0.0              0.0                  1.0   \n",
       "173                  0.0              0.0                  0.0   \n",
       "174                  0.0              0.0                  0.0   \n",
       "175                  0.0              0.0                  0.0   \n",
       "\n",
       "     laptop_brand_MSI  laptop_brand_Microsoft  laptop_brand_Other  \\\n",
       "0                 0.0                     0.0                 0.0   \n",
       "1                 0.0                     1.0                 0.0   \n",
       "2                 0.0                     0.0                 0.0   \n",
       "3                 0.0                     0.0                 0.0   \n",
       "4                 0.0                     0.0                 0.0   \n",
       "..                ...                     ...                 ...   \n",
       "171               0.0                     0.0                 0.0   \n",
       "172               0.0                     0.0                 0.0   \n",
       "173               1.0                     0.0                 0.0   \n",
       "174               0.0                     0.0                 0.0   \n",
       "175               0.0                     0.0                 0.0   \n",
       "\n",
       "     laptop_brand_Razer  laptop_brand_Samsung  laptop_brand_Xiaomi  \n",
       "0                   1.0                   0.0                  0.0  \n",
       "1                   0.0                   0.0                  0.0  \n",
       "2                   0.0                   0.0                  0.0  \n",
       "3                   0.0                   0.0                  0.0  \n",
       "4                   0.0                   0.0                  0.0  \n",
       "..                  ...                   ...                  ...  \n",
       "171                 0.0                   0.0                  0.0  \n",
       "172                 0.0                   0.0                  0.0  \n",
       "173                 0.0                   0.0                  0.0  \n",
       "174                 0.0                   0.0                  0.0  \n",
       "175                 0.0                   0.0                  0.0  \n",
       "\n",
       "[176 rows x 41 columns]"
      ]
     },
     "execution_count": 36,
     "metadata": {},
     "output_type": "execute_result"
    }
   ],
   "source": [
    "df_test"
   ]
  },
  {
   "cell_type": "code",
   "execution_count": 37,
   "id": "b5fc2168-dd11-4442-8251-45cb1cf2b154",
   "metadata": {},
   "outputs": [],
   "source": [
    "from sklearn.preprocessing import MinMaxScaler\n",
    "from sklearn.preprocessing import RobustScaler"
   ]
  },
  {
   "cell_type": "markdown",
   "id": "aaf4d422-578b-491f-a534-efcb5f879608",
   "metadata": {},
   "source": [
    "Using Min-Max Scaling technique to scale the features"
   ]
  },
  {
   "cell_type": "code",
   "execution_count": 38,
   "id": "50f29828-3fac-480b-8351-b5648e185ca7",
   "metadata": {},
   "outputs": [],
   "source": [
    "scaler = MinMaxScaler()"
   ]
  },
  {
   "cell_type": "code",
   "execution_count": 39,
   "id": "28eb9900-a87c-40ed-b8b4-c714d9d51f54",
   "metadata": {},
   "outputs": [],
   "source": [
    "X_train = pd.DataFrame(scaler.fit_transform(X_train), columns = scaler.get_feature_names_out())\n",
    "X_test = pd.DataFrame(scaler.transform(X_test), columns = scaler.get_feature_names_out())"
   ]
  },
  {
   "cell_type": "code",
   "execution_count": 40,
   "id": "8e111182-d9e0-4dae-85e5-f9d1dbe7b40d",
   "metadata": {},
   "outputs": [],
   "source": [
    "from eval_baseline import eval_baseline"
   ]
  },
  {
   "cell_type": "markdown",
   "id": "7e983e30-9060-47b6-b131-9d613014301f",
   "metadata": {},
   "source": [
    "Here we calculate the importance of each feature using RandomForest, The following graph show how each feature contributes to the model"
   ]
  },
  {
   "cell_type": "code",
   "execution_count": 41,
   "id": "5fba1e3c-5d50-4516-a667-64cb08c11201",
   "metadata": {},
   "outputs": [
    {
     "data": {
      "image/png": "[encoded data removed]",
      "text/plain": [
       "<Figure size 864x576 with 1 Axes>"
      ]
     },
     "metadata": {
      "needs_background": "light"
     },
     "output_type": "display_data"
    }
   ],
   "source": [
    "rf = RandomForestRegressor(n_estimators = 100, random_state=42)\n",
    "rf.fit(X_train, y_train)\n",
    "importances = rf.feature_importances_\n",
    "indices = np.argsort(importances)[::-1]\n",
    "plt.figure()\n",
    "plt.title(\"Feature importances\")\n",
    "plt.bar(range(X_train.shape[1]), importances[indices],\n",
    "        color=\"lightsalmon\", align=\"center\")\n",
    "plt.xticks(range(X_train.shape[1]), X_train.columns[indices], rotation=90)\n",
    "plt.xlim([-1, X_train.shape[1]])\n",
    "plt.show()"
   ]
  },
  {
   "cell_type": "markdown",
   "id": "7513444e-b02b-401d-b831-29d8426236e7",
   "metadata": {},
   "source": [
    "#### Feature selection "
   ]
  },
  {
   "cell_type": "markdown",
   "id": "309ee5d2-8470-4e43-8911-9e7ddc64d0a8",
   "metadata": {},
   "source": [
    "Here, based on the feature importance retrieved from Random Forest, we take only the features with importance > 0.015"
   ]
  },
  {
   "cell_type": "code",
   "execution_count": 42,
   "id": "6f818d58-c905-4e7f-84be-c0ce3b7e8ee5",
   "metadata": {},
   "outputs": [
    {
     "name": "stdout",
     "output_type": "stream",
     "text": [
      "Number of features remaining:  19\n"
     ]
    }
   ],
   "source": [
    "from sklearn.feature_selection import SelectFromModel\n",
    "sfm = SelectFromModel(rf, threshold=0.0025)\n",
    "sfm.fit(X_train, y_train)\n",
    "X_train = sfm.transform(X_train)\n",
    "X_test = sfm.transform(X_test)\n",
    "print(\"Number of features remaining: \", X_train.shape[1])"
   ]
  },
  {
   "cell_type": "code",
   "execution_count": 43,
   "id": "2a1d41d9-13cc-4eab-91c6-e1887a6c4ab4",
   "metadata": {},
   "outputs": [
    {
     "name": "stderr",
     "output_type": "stream",
     "text": [
      "[Parallel(n_jobs=1)]: Using backend SequentialBackend with 1 concurrent workers.\n",
      "[Parallel(n_jobs=1)]: Done 300 out of 300 | elapsed:    2.8s finished\n",
      "[Parallel(n_jobs=1)]: Using backend SequentialBackend with 1 concurrent workers.\n",
      "[Parallel(n_jobs=1)]: Done 300 out of 300 | elapsed:    0.0s finished\n"
     ]
    },
    {
     "data": {
      "text/plain": [
       "0.7971783552280678"
      ]
     },
     "execution_count": 43,
     "metadata": {},
     "output_type": "execute_result"
    }
   ],
   "source": [
    "eval_baseline(X_train, X_test, y_train, y_test)"
   ]
  },
  {
   "cell_type": "code",
   "execution_count": 44,
   "id": "f0d2b3c7-a5bd-4e38-a8cc-b7cc962da804",
   "metadata": {},
   "outputs": [],
   "source": [
    "training_set = pd.concat([pd.DataFrame(X_train,columns = sfm.get_feature_names_out()), y_train.reset_index(drop=True)],axis = 1)\n",
    "testing_set = pd.concat([pd.DataFrame(X_test,columns = sfm.get_feature_names_out()), y_test.reset_index(drop=True)], axis = 1)"
   ]
  },
  {
   "cell_type": "code",
   "execution_count": 45,
   "id": "7d5b0b0c-2db9-4a57-999d-614ac84b8e9c",
   "metadata": {},
   "outputs": [],
   "source": [
    "training_set.to_csv('../data/training_set.csv')\n",
    "testing_set.to_csv('../data/testing_set.csv')"
   ]
  },
  {
   "cell_type": "code",
   "execution_count": null,
   "id": "ef985ee6-ef94-4788-b151-a6a521b62841",
   "metadata": {},
   "outputs": [],
   "source": []
  }
 ],
 "metadata": {
  "kernelspec": {
   "display_name": "Python 3",
   "language": "python",
   "name": "python3"
  },
  "language_info": {
   "codemirror_mode": {
    "name": "ipython",
    "version": 3
   },
   "file_extension": ".py",
   "mimetype": "text/x-python",
   "name": "python",
   "nbconvert_exporter": "python",
   "pygments_lexer": "ipython3",
   "version": "3.10.7 (tags/v3.10.7:6cc6b13, Sep  5 2022, 14:08:36) [MSC v.1933 64 bit (AMD64)]"
  },
  "vscode": {
   "interpreter": {
    "hash": "e593ac106456af50ce7af38f9671c411b49d6cd90f9b885e167f0f594e09038c"
   }
  }
 },
 "nbformat": 4,
 "nbformat_minor": 5
}
